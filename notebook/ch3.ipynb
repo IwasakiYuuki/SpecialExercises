{
 "cells": [
  {
   "cell_type": "code",
   "execution_count": 2,
   "metadata": {},
   "outputs": [],
   "source": [
    "import numpy as np\n",
    "np.random.seed(seed=777)"
   ]
  },
  {
   "cell_type": "markdown",
   "metadata": {},
   "source": [
    "## Exercise3.1"
   ]
  },
  {
   "cell_type": "code",
   "execution_count": 132,
   "metadata": {},
   "outputs": [],
   "source": [
    "class Affine:\n",
    "    def __init__(self, w, b):\n",
    "        self.w = w\n",
    "        self.b = b\n",
    "        self.dw = None\n",
    "        self.db = None\n",
    "        self.input = None\n",
    "    \n",
    "    def forward(self, x):\n",
    "        self.input = x\n",
    "        y = np.dot(self.w, x) + self.b\n",
    "        return y\n",
    "    \n",
    "    def backward(self, dx):\n",
    "        self.dw = np.dot(dx ,self.input.T)\n",
    "        self.db = np.sum(dx, axis=1, keepdims=True)\n",
    "        return np.dot(self.w.T, dx)\n",
    "    \n",
    "    def update(self, lr=1.0):\n",
    "        self.w -= self.dw * lr\n",
    "        self.b -= self.db * lr\n",
    "    \n",
    "class Sigmoid:\n",
    "    def __init__(self):\n",
    "        self.output = None\n",
    "        \n",
    "    def forward(self, x):\n",
    "        y = 1 / (1 + np.exp(-x))\n",
    "        self.output = y\n",
    "        return y\n",
    "    \n",
    "    def backward(self, dx):\n",
    "        return dx * self.output * (1.0 - self.output)"
   ]
  },
  {
   "cell_type": "code",
   "execution_count": 4,
   "metadata": {},
   "outputs": [
    {
     "name": "stdout",
     "output_type": "stream",
     "text": [
      "[[0.98111578 0.98685385 0.98859632 0.99093144]]\n"
     ]
    }
   ],
   "source": [
    "x = np.array([[ 0, 0, 1, 1],\n",
    "              [ 0, 1, 0, 1]])\n",
    "w = np.array([[ 1.1, 0.7],\n",
    "              [0.3, 0.5]])\n",
    "b = np.array([[0.1],\n",
    "              [ 3]])\n",
    "u = np.array([[ 2, 2.1]])\n",
    "c = np.array([0.9])\n",
    "\n",
    "layer1 = Affine(w, b)\n",
    "layer2 = Sigmoid()\n",
    "layer3 = Affine(u, c)\n",
    "layer4 = Sigmoid()\n",
    "\n",
    "p = layer1.forward(x)\n",
    "y = layer2.forward(p)\n",
    "q = layer3.forward(y)\n",
    "z = layer4.forward(q)\n",
    "\n",
    "print(z)"
   ]
  },
  {
   "cell_type": "code",
   "execution_count": 5,
   "metadata": {},
   "outputs": [
    {
     "name": "stdout",
     "output_type": "stream",
     "text": [
      "[[0.92383547 0.93812899 0.93840737 0.9475542 ]]\n"
     ]
    }
   ],
   "source": [
    "x = np.array([[ 0, 0, 1, 1],\n",
    "              [ 0, 1, 0, 1]])\n",
    "w = np.array([[ 1, 0.5],\n",
    "              [0.11,1]])\n",
    "b = np.array([[0.3],\n",
    "              [ 2]])\n",
    "u = np.array([[ 1, 1.5]])\n",
    "c = np.array([0.6])\n",
    "\n",
    "\n",
    "layer1 = Affine(w, b)\n",
    "layer2 = Sigmoid()\n",
    "layer3 = Affine(u, c)\n",
    "layer4 = Sigmoid()\n",
    "\n",
    "p = layer1.forward(x)\n",
    "y = layer2.forward(p)\n",
    "q = layer3.forward(y)\n",
    "z = layer4.forward(q)\n",
    "\n",
    "print(z)"
   ]
  },
  {
   "cell_type": "markdown",
   "metadata": {},
   "source": [
    "## Exercise3.2"
   ]
  },
  {
   "cell_type": "code",
   "execution_count": 108,
   "metadata": {},
   "outputs": [],
   "source": [
    "class MSE:\n",
    "    def __init__(self):\n",
    "        self.output = None\n",
    "        self.t = None\n",
    "    \n",
    "    def forward(self, z, t):\n",
    "        data_num = z.shape[-1]\n",
    "        loss = np.sum((z - t) ** 2) / (2 * data_num)\n",
    "        self.z = z\n",
    "        self.t = t\n",
    "        return loss\n",
    "    \n",
    "    def backward(self):\n",
    "        return self.z - self.t"
   ]
  },
  {
   "cell_type": "code",
   "execution_count": 7,
   "metadata": {},
   "outputs": [
    {
     "name": "stdout",
     "output_type": "stream",
     "text": [
      "0.2198690776011607\n"
     ]
    }
   ],
   "source": [
    "x = np.array([[ 0, 0, 1, 1],\n",
    "              [ 0, 1, 0, 1]])\n",
    "t = np.array([0, 1, 1, 0])\n",
    "w = np.array([[ 1, 0.5],\n",
    "              [0.11, 1]])\n",
    "b = np.array([[0.3],\n",
    "              [ 2]])\n",
    "u = np.array([[ 1, 1.5]])\n",
    "c = np.array([0.6])\n",
    "\n",
    "\n",
    "layer1 = Affine(w, b)\n",
    "layer2 = Sigmoid()\n",
    "layer3 = Affine(u, c)\n",
    "layer4 = Sigmoid()\n",
    "layer5 = MSE()\n",
    "\n",
    "p = layer1.forward(x)\n",
    "y = layer2.forward(p)\n",
    "q = layer3.forward(y)\n",
    "z = layer4.forward(q)\n",
    "loss = layer5.forward(z, t)\n",
    "\n",
    "print(loss)"
   ]
  },
  {
   "cell_type": "markdown",
   "metadata": {},
   "source": [
    "## Exercise3.3"
   ]
  },
  {
   "cell_type": "code",
   "execution_count": 65,
   "metadata": {
    "scrolled": true
   },
   "outputs": [
    {
     "name": "stdout",
     "output_type": "stream",
     "text": [
      "0.15823737724358658\n"
     ]
    }
   ],
   "source": [
    "x = np.array([[0, 0, 1, 1],\n",
    "              [0, 1, 0, 1]])\n",
    "t = np.array([0, 1, 1, 0])\n",
    "\n",
    "input_dim = 2\n",
    "hidden_dim = 2\n",
    "output_dim = 1\n",
    "\n",
    "w = 2.0 * np.random.rand(hidden_dim, input_dim) - 1.0\n",
    "b = 2.0 * np.random.rand(hidden_dim, 1) - 1.0\n",
    "u = 2.0 * np.random.rand(output_dim, hidden_dim) -1.0\n",
    "c = 2.0 * np.random.rand(output_dim, 1) - 1.0\n",
    "\n",
    "layer1 = Affine(w, b)\n",
    "layer2 = Sigmoid()\n",
    "layer3 = Affine(u, c)\n",
    "layer4 = Sigmoid()\n",
    "layer5 = MSE()\n",
    "\n",
    "p = layer1.forward(x)\n",
    "y = layer2.forward(p)\n",
    "q = layer3.forward(y)\n",
    "z = layer4.forward(q)\n",
    "loss = layer5.forward(z, t)\n",
    "\n",
    "print(loss)"
   ]
  },
  {
   "cell_type": "markdown",
   "metadata": {},
   "source": [
    "## Exercise3.4"
   ]
  },
  {
   "cell_type": "code",
   "execution_count": 134,
   "metadata": {
    "scrolled": true
   },
   "outputs": [
    {
     "name": "stdout",
     "output_type": "stream",
     "text": [
      "epoch 0 loss 0.12274927579404002 y [[0.42118093 0.36994107 0.26797782 0.22803347]]\n",
      "epoch 100 loss 0.016585570256661034 y [[0.01791774 0.19488418 0.19474379 0.76238997]]\n",
      "epoch 200 loss 0.008009002282706441 y [[0.00486048 0.13626446 0.13626083 0.83594703]]\n",
      "epoch 300 loss 0.005099666614781936 y [[0.00224043 0.10894766 0.1089473  0.86941207]]\n",
      "epoch 400 loss 0.0036895097409325598 y [[0.00130266 0.09276136 0.0927613  0.88907186]]\n",
      "epoch 500 loss 0.0028703283529771884 y [[8.60775155e-04 8.18689834e-02 8.18689663e-02 9.02240971e-01]]\n",
      "epoch 600 loss 0.0023394297756996665 y [[6.16368144e-04 7.39428175e-02 7.39428117e-02 9.11795813e-01]]\n",
      "epoch 700 loss 0.0019692527718526013 y [[4.66255568e-04 6.78625991e-02 6.78625968e-02 9.19110320e-01]]\n",
      "epoch 800 loss 0.0016972884097868988 y [[3.67003943e-04 6.30180961e-02 6.30180951e-02 9.24929288e-01]]\n",
      "epoch 900 loss 0.0014894932708022076 y [[2.97695256e-04 5.90463740e-02 5.90463735e-02 9.29694175e-01]]\n"
     ]
    }
   ],
   "source": [
    "x = np.array([[0, 0, 1, 1],\n",
    "              [0, 1, 0, 1]])\n",
    "t = np.array([0, 0, 0, 1])\n",
    "\n",
    "input_dim = 2\n",
    "hidden_dim = 2\n",
    "output_dim = 1\n",
    "\n",
    "w = 2.0 * np.random.rand(1, 2) - 1.0\n",
    "b = 2.0 * np.random.rand(1, 1) - 1.0\n",
    "\n",
    "layer1 = Affine(w, b)\n",
    "layer2 = Sigmoid()\n",
    "layer3 = MSE()\n",
    "\n",
    "epoch = 1000\n",
    "for i in range(epoch):\n",
    "    p = layer1.forward(x)\n",
    "    y = layer2.forward(p)\n",
    "    loss = layer3.forward(y, t)\n",
    "    \n",
    "    dy = layer3.backward()\n",
    "    dp = layer2.backward(dy)\n",
    "    dx = layer1.backward(dp)\n",
    "    \n",
    "    layer1.update()\n",
    "    \n",
    "    if i % 100 == 0:\n",
    "        print('epoch', i, 'loss', loss, 'y', y)"
   ]
  },
  {
   "cell_type": "code",
   "execution_count": 122,
   "metadata": {},
   "outputs": [
    {
     "name": "stdout",
     "output_type": "stream",
     "text": [
      "[[-0.01216047 -0.01210709]]\n",
      "[[0.0178823]]\n"
     ]
    }
   ],
   "source": [
    "print(layer1.dw)\n",
    "print(layer1.db)"
   ]
  },
  {
   "cell_type": "markdown",
   "metadata": {},
   "source": [
    "## Exercise3.5"
   ]
  },
  {
   "cell_type": "code",
   "execution_count": 137,
   "metadata": {},
   "outputs": [
    {
     "name": "stdout",
     "output_type": "stream",
     "text": [
      "epoch 0 loss 0.1377542423135002 z [[0.34117964 0.37766343 0.30479485 0.33914214]]\n",
      "epoch 100 loss 0.12369464342718157 z [[0.48652369 0.51932947 0.48629532 0.50785352]]\n",
      "epoch 200 loss 0.10597456474695832 z [[0.37441855 0.55458263 0.54203068 0.54724285]]\n",
      "epoch 300 loss 0.055305278217205975 z [[0.21395756 0.68947782 0.68782394 0.45031819]]\n",
      "epoch 400 loss 0.0150238597696577 z [[0.13022495 0.83569979 0.83574558 0.22194203]]\n",
      "epoch 500 loss 0.006414430188250171 z [[0.0912224  0.89236481 0.89239939 0.14082148]]\n",
      "epoch 600 loss 0.003790164049349883 z [[0.07231166 0.91719764 0.9172223  0.10669563]]\n",
      "epoch 700 loss 0.002619634635755314 z [[0.06117187 0.93113792 0.93115699 0.08794165]]\n",
      "epoch 800 loss 0.0019765163366099953 z [[0.05374175 0.94017492 0.94019048 0.0759456 ]]\n",
      "epoch 900 loss 0.0015758089467432785 z [[0.04837598 0.94657752 0.9465907  0.06752571]]\n"
     ]
    }
   ],
   "source": [
    "x = np.array([[0, 0, 1, 1],\n",
    "              [0, 1, 0, 1]])\n",
    "t = np.array([0, 1, 1, 0])\n",
    "\n",
    "input_dim = 2\n",
    "hidden_dim = 2\n",
    "output_dim = 1\n",
    "\n",
    "w = 2.0 * np.random.rand(hidden_dim, input_dim) - 1.0\n",
    "b = 2.0 * np.random.rand(hidden_dim, 1) - 1.0\n",
    "u = 2.0 * np.random.rand(output_dim, hidden_dim) -1.0\n",
    "c = 2.0 * np.random.rand(output_dim, 1) - 1.0\n",
    "\n",
    "layer1 = Affine(w, b)\n",
    "layer2 = Sigmoid()\n",
    "layer3 = Affine(u, c)\n",
    "layer4 = Sigmoid()\n",
    "layer5 = MSE()\n",
    "\n",
    "epoch = 1000\n",
    "for i in range(epoch):\n",
    "    p = layer1.forward(x)\n",
    "    y = layer2.forward(p)\n",
    "    q = layer3.forward(y)\n",
    "    z = layer4.forward(q)\n",
    "    loss = layer5.forward(z, t)\n",
    "    \n",
    "    dz = layer5.backward()\n",
    "    dq = layer4.backward(dz)\n",
    "    dy = layer3.backward(dq)\n",
    "    dp = layer2.backward(dy)\n",
    "    dx = layer1.backward(dp)\n",
    "    \n",
    "    layer1.update()\n",
    "    layer3.update()\n",
    "    \n",
    "    if i % 100 == 0:\n",
    "        print('epoch', i, 'loss', loss, 'z', z)"
   ]
  },
  {
   "cell_type": "markdown",
   "metadata": {},
   "source": [
    "## Exercise3.6"
   ]
  },
  {
   "cell_type": "code",
   "execution_count": 138,
   "metadata": {},
   "outputs": [
    {
     "name": "stdout",
     "output_type": "stream",
     "text": [
      "epoch 0 loss 0.1011810174725194 z [[0.44590255 0.40003897 0.44845481 0.40332604 0.43142076 0.38703963\n",
      "  0.43493192 0.39076845]]\n",
      "epoch 100 loss 0.04597226955867939 z [[0.08342249 0.11351742 0.13081018 0.17096784 0.15514303 0.19351316\n",
      "  0.21496189 0.25057077]]\n",
      "epoch 200 loss 0.011145032855742615 z [[0.00501565 0.0215071  0.0182419  0.1600938  0.01742877 0.1652226\n",
      "  0.16074945 0.68626864]]\n",
      "epoch 300 loss 0.002875006594077605 z [[0.00104237 0.00444909 0.00402101 0.08572154 0.00330181 0.0868778\n",
      "  0.08420441 0.84519097]]\n",
      "epoch 400 loss 0.0013486099237470706 z [[5.27304693e-04 2.09325310e-03 2.04331226e-03 5.95167163e-02\n",
      "  1.55151202e-03 5.96330998e-02 5.81600724e-02 8.94711935e-01]]\n",
      "epoch 500 loss 0.0008258504277519683 z [[3.53312981e-04 1.33329766e-03 1.37129908e-03 4.68894508e-02\n",
      "  9.92197197e-04 4.66375359e-02 4.57031609e-02 9.17863649e-01]]\n",
      "epoch 600 loss 0.0005782922473226347 z [[2.68071489e-04 9.75664601e-04 1.04163841e-03 3.94022932e-02\n",
      "  7.28693465e-04 3.89885975e-02 3.83448035e-02 9.31391977e-01]]\n",
      "epoch 700 loss 0.0004380536435153306 z [[2.17710457e-04 7.70992634e-04 8.46737850e-04 3.43946411e-02\n",
      "  5.77482674e-04 3.39009705e-02 3.34348430e-02 9.40359325e-01]]\n",
      "epoch 800 loss 0.00034921917622384493 z [[1.84448560e-04 6.39231272e-04 7.17934076e-04 3.07780720e-02\n",
      "  4.79869266e-04 3.02425850e-02 2.98946082e-02 9.46795421e-01]]\n",
      "epoch 900 loss 0.0002885120955615049 z [[1.60803915e-04 5.47525817e-04 6.26317578e-04 2.80245674e-02\n",
      "  4.11761320e-04 2.74670947e-02 2.72024916e-02 9.51672856e-01]]\n"
     ]
    }
   ],
   "source": [
    "x = np.array([[0, 0, 0, 0, 1, 1, 1, 1],\n",
    "              [0, 0, 1, 1, 0, 0, 1, 1],\n",
    "              [0, 1, 0, 1, 0, 1, 0, 1]])\n",
    "t = np.array([0, 0, 0, 0, 0, 0, 0, 1])\n",
    "\n",
    "input_dim = 3\n",
    "hidden_dim = 3\n",
    "output_dim = 1\n",
    "\n",
    "w = 2.0 * np.random.rand(hidden_dim, input_dim) - 1.0\n",
    "b = 2.0 * np.random.rand(hidden_dim, 1) - 1.0\n",
    "u = 2.0 * np.random.rand(output_dim, hidden_dim) -1.0\n",
    "c = 2.0 * np.random.rand(output_dim, 1) - 1.0\n",
    "\n",
    "layer1 = Affine(w, b)\n",
    "layer2 = Sigmoid()\n",
    "layer3 = Affine(u, c)\n",
    "layer4 = Sigmoid()\n",
    "layer5 = MSE()\n",
    "\n",
    "epoch = 1000\n",
    "for i in range(epoch):\n",
    "    p = layer1.forward(x)\n",
    "    y = layer2.forward(p)\n",
    "    q = layer3.forward(y)\n",
    "    z = layer4.forward(q)\n",
    "    loss = layer5.forward(z, t)\n",
    "    \n",
    "    dz = layer5.backward()\n",
    "    dq = layer4.backward(dz)\n",
    "    dy = layer3.backward(dq)\n",
    "    dp = layer2.backward(dy)\n",
    "    dx = layer1.backward(dp)\n",
    "    \n",
    "    layer1.update()\n",
    "    layer3.update()\n",
    "    \n",
    "    if i % 100 == 0:\n",
    "        print('epoch', i, 'loss', loss, 'z', z)"
   ]
  },
  {
   "cell_type": "code",
   "execution_count": null,
   "metadata": {},
   "outputs": [],
   "source": []
  }
 ],
 "metadata": {
  "kernelspec": {
   "display_name": "Python 3",
   "language": "python",
   "name": "python3"
  },
  "language_info": {
   "codemirror_mode": {
    "name": "ipython",
    "version": 3
   },
   "file_extension": ".py",
   "mimetype": "text/x-python",
   "name": "python",
   "nbconvert_exporter": "python",
   "pygments_lexer": "ipython3",
   "version": "3.8.3"
  }
 },
 "nbformat": 4,
 "nbformat_minor": 4
}
