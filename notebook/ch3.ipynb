{
 "cells": [
  {
   "cell_type": "code",
   "execution_count": 11,
   "metadata": {},
   "outputs": [],
   "source": [
    "import numpy as np\n",
    "np.random.seed(seed=7)"
   ]
  },
  {
   "cell_type": "markdown",
   "metadata": {},
   "source": [
    "## Exercise3.1"
   ]
  },
  {
   "cell_type": "code",
   "execution_count": 12,
   "metadata": {},
   "outputs": [],
   "source": [
    "class Affine:\n",
    "    def __init__(self, w, b):\n",
    "        self.w = w\n",
    "        self.b = b\n",
    "        self.dw = None\n",
    "        self.db = None\n",
    "        self.input = None\n",
    "    \n",
    "    def forward(self, x):\n",
    "        self.input = x\n",
    "        y = np.dot(self.w, x) + self.b\n",
    "        return y\n",
    "    \n",
    "    def backward(self, dx):\n",
    "        self.dw = np.dot(dx ,self.input.T)\n",
    "        self.db = np.sum(dx, axis=1, keepdims=True)\n",
    "        return np.dot(self.w.T, dx)\n",
    "    \n",
    "    def update(self, lr=0.1):\n",
    "        self.w -= self.dw * lr\n",
    "        self.b -= self.db * lr\n",
    "    \n",
    "class Sigmoid:\n",
    "    def __init__(self):\n",
    "        self.output = None\n",
    "        \n",
    "    def forward(self, x):\n",
    "        y = 1 / (1 + np.exp(-x))\n",
    "        self.output = y\n",
    "        return y\n",
    "    \n",
    "    def backward(self, dx):\n",
    "        return dx * self.output * (1.0 - self.output)"
   ]
  },
  {
   "cell_type": "code",
   "execution_count": 13,
   "metadata": {},
   "outputs": [
    {
     "name": "stdout",
     "output_type": "stream",
     "text": [
      "[[0.98111578 0.98685385 0.98859632 0.99093144]]\n"
     ]
    }
   ],
   "source": [
    "x = np.array([[ 0, 0, 1, 1],\n",
    "              [ 0, 1, 0, 1]])\n",
    "w = np.array([[ 1.1, 0.7],\n",
    "              [0.3, 0.5]])\n",
    "b = np.array([[0.1],\n",
    "              [ 3]])\n",
    "u = np.array([[ 2, 2.1]])\n",
    "c = np.array([0.9])\n",
    "\n",
    "layer1 = Affine(w, b)\n",
    "layer2 = Sigmoid()\n",
    "layer3 = Affine(u, c)\n",
    "layer4 = Sigmoid()\n",
    "\n",
    "p = layer1.forward(x)\n",
    "y = layer2.forward(p)\n",
    "q = layer3.forward(y)\n",
    "z = layer4.forward(q)\n",
    "\n",
    "print(z)"
   ]
  },
  {
   "cell_type": "code",
   "execution_count": 14,
   "metadata": {},
   "outputs": [
    {
     "name": "stdout",
     "output_type": "stream",
     "text": [
      "[[0.92383547 0.93812899 0.93840737 0.9475542 ]]\n"
     ]
    }
   ],
   "source": [
    "x = np.array([[ 0, 0, 1, 1],\n",
    "              [ 0, 1, 0, 1]])\n",
    "w = np.array([[ 1, 0.5],\n",
    "              [0.11,1]])\n",
    "b = np.array([[0.3],\n",
    "              [ 2]])\n",
    "u = np.array([[ 1, 1.5]])\n",
    "c = np.array([0.6])\n",
    "\n",
    "\n",
    "layer1 = Affine(w, b)\n",
    "layer2 = Sigmoid()\n",
    "layer3 = Affine(u, c)\n",
    "layer4 = Sigmoid()\n",
    "\n",
    "p = layer1.forward(x)\n",
    "y = layer2.forward(p)\n",
    "q = layer3.forward(y)\n",
    "z = layer4.forward(q)\n",
    "\n",
    "print(z)"
   ]
  },
  {
   "cell_type": "markdown",
   "metadata": {},
   "source": [
    "## Exercise3.2"
   ]
  },
  {
   "cell_type": "code",
   "execution_count": 15,
   "metadata": {},
   "outputs": [],
   "source": [
    "class MSE:\n",
    "    def __init__(self):\n",
    "        self.output = None\n",
    "        self.t = None\n",
    "    \n",
    "    def forward(self, z, t):\n",
    "        data_num = z.shape[-1]\n",
    "        loss = np.sum((z - t) ** 2) / (2 * data_num)\n",
    "        self.z = z\n",
    "        self.t = t\n",
    "        return loss\n",
    "    \n",
    "    def backward(self):\n",
    "        return self.z - self.t"
   ]
  },
  {
   "cell_type": "code",
   "execution_count": 16,
   "metadata": {},
   "outputs": [
    {
     "name": "stdout",
     "output_type": "stream",
     "text": [
      "0.2198690776011607\n"
     ]
    }
   ],
   "source": [
    "x = np.array([[ 0, 0, 1, 1],\n",
    "              [ 0, 1, 0, 1]])\n",
    "t = np.array([0, 1, 1, 0])\n",
    "w = np.array([[ 1, 0.5],\n",
    "              [0.11, 1]])\n",
    "b = np.array([[0.3],\n",
    "              [ 2]])\n",
    "u = np.array([[ 1, 1.5]])\n",
    "c = np.array([0.6])\n",
    "\n",
    "\n",
    "layer1 = Affine(w, b)\n",
    "layer2 = Sigmoid()\n",
    "layer3 = Affine(u, c)\n",
    "layer4 = Sigmoid()\n",
    "layer5 = MSE()\n",
    "\n",
    "p = layer1.forward(x)\n",
    "y = layer2.forward(p)\n",
    "q = layer3.forward(y)\n",
    "z = layer4.forward(q)\n",
    "loss = layer5.forward(z, t)\n",
    "\n",
    "print(loss)"
   ]
  },
  {
   "cell_type": "markdown",
   "metadata": {},
   "source": [
    "## Exercise3.3"
   ]
  },
  {
   "cell_type": "code",
   "execution_count": 17,
   "metadata": {
    "scrolled": true
   },
   "outputs": [
    {
     "name": "stdout",
     "output_type": "stream",
     "text": [
      "0.14895786372912956\n"
     ]
    }
   ],
   "source": [
    "x = np.array([[0, 0, 1, 1],\n",
    "              [0, 1, 0, 1]])\n",
    "t = np.array([0, 1, 1, 0])\n",
    "\n",
    "input_dim = 2\n",
    "hidden_dim = 2\n",
    "output_dim = 1\n",
    "\n",
    "w = 2.0 * np.random.rand(hidden_dim, input_dim) - 1.0\n",
    "b = 2.0 * np.random.rand(hidden_dim, 1) - 1.0\n",
    "u = 2.0 * np.random.rand(output_dim, hidden_dim) -1.0\n",
    "c = 2.0 * np.random.rand(output_dim, 1) - 1.0\n",
    "\n",
    "layer1 = Affine(w, b)\n",
    "layer2 = Sigmoid()\n",
    "layer3 = Affine(u, c)\n",
    "layer4 = Sigmoid()\n",
    "layer5 = MSE()\n",
    "\n",
    "p = layer1.forward(x)\n",
    "y = layer2.forward(p)\n",
    "q = layer3.forward(y)\n",
    "z = layer4.forward(q)\n",
    "loss = layer5.forward(z, t)\n",
    "\n",
    "print(loss)"
   ]
  },
  {
   "cell_type": "markdown",
   "metadata": {},
   "source": [
    "## Exercise3.4"
   ]
  },
  {
   "cell_type": "code",
   "execution_count": 18,
   "metadata": {
    "scrolled": true
   },
   "outputs": [
    {
     "name": "stdout",
     "output_type": "stream",
     "text": [
      "epoch 0 loss 0.17984365730733037 y [[0.6473653  0.72430913 0.64731165 0.7242622 ]]\n",
      "epoch 100 loss 0.07646778591085235 y [[0.25767515 0.36920048 0.32705439 0.45038902]]\n",
      "epoch 200 loss 0.055273262753735314 y [[0.16072115 0.33450184 0.31516072 0.54707942]]\n",
      "epoch 300 loss 0.043399149694522174 y [[0.10699714 0.30486142 0.29579914 0.60590967]]\n",
      "epoch 400 loss 0.03569916807029434 y [[0.0751324  0.28008397 0.27567597 0.64573428]]\n",
      "epoch 500 loss 0.03022033415647614 y [[0.05507433 0.25957375 0.25733276 0.67576119]]\n",
      "epoch 600 loss 0.02609702841548001 y [[0.04179032 0.24234113 0.24114997 0.69975466]]\n",
      "epoch 700 loss 0.02287827579236778 y [[0.03262121 0.22763927 0.22697877 0.71960195]]\n",
      "epoch 800 loss 0.020299413696406685 y [[0.02607236 0.21493478 0.2145539  0.73639953]]\n",
      "epoch 900 loss 0.0181917419395414 y [[0.02125843 0.20383877 0.20361113 0.7508529 ]]\n"
     ]
    }
   ],
   "source": [
    "x = np.array([[0, 0, 1, 1],\n",
    "              [0, 1, 0, 1]])\n",
    "t = np.array([0, 0, 0, 1])\n",
    "\n",
    "input_dim = 2\n",
    "hidden_dim = 2\n",
    "output_dim = 1\n",
    "\n",
    "w = 2.0 * np.random.rand(1, 2) - 1.0\n",
    "b = 2.0 * np.random.rand(1, 1) - 1.0\n",
    "\n",
    "layer1 = Affine(w, b)\n",
    "layer2 = Sigmoid()\n",
    "layer3 = MSE()\n",
    "\n",
    "epoch = 1000\n",
    "for i in range(epoch):\n",
    "    p = layer1.forward(x)\n",
    "    y = layer2.forward(p)\n",
    "    loss = layer3.forward(y, t)\n",
    "    \n",
    "    dy = layer3.backward()\n",
    "    dp = layer2.backward(dy)\n",
    "    dx = layer1.backward(dp)\n",
    "    \n",
    "    layer1.update()\n",
    "    \n",
    "    if i % 100 == 0:\n",
    "        print('epoch', i, 'loss', loss, 'y', y)"
   ]
  },
  {
   "cell_type": "code",
   "execution_count": 19,
   "metadata": {},
   "outputs": [
    {
     "name": "stdout",
     "output_type": "stream",
     "text": [
      "[[2.59552786 2.5964267 ]]\n",
      "[[-4.02027178]]\n"
     ]
    }
   ],
   "source": [
    "print(layer1.w)\n",
    "print(layer1.b)"
   ]
  },
  {
   "cell_type": "markdown",
   "metadata": {},
   "source": [
    "## Exercise3.5"
   ]
  },
  {
   "cell_type": "code",
   "execution_count": 25,
   "metadata": {},
   "outputs": [
    {
     "name": "stdout",
     "output_type": "stream",
     "text": [
      "epoch 0 loss 0.14865152481975835 z [[0.30973394 0.29240501 0.27691086 0.26406156]]\n",
      "epoch 100 loss 0.12493005821637666 z [[0.51293776 0.50855688 0.49162716 0.4861852 ]]\n",
      "epoch 200 loss 0.12465843369022318 z [[0.51062719 0.51422939 0.48651222 0.48670789]]\n",
      "epoch 300 loss 0.12365131549983245 z [[0.51059522 0.53086825 0.47145759 0.47860356]]\n",
      "epoch 400 loss 0.11606619291149047 z [[0.49631644 0.6006541  0.42374649 0.43663975]]\n",
      "epoch 500 loss 0.0929762025847744 z [[0.45748439 0.74956163 0.39729043 0.32945326]]\n",
      "epoch 600 loss 0.04646288191252964 z [[0.35850376 0.79248915 0.60704202 0.21377882]]\n",
      "epoch 700 loss 0.009311833893073414 z [[0.14334216 0.86844748 0.8509094  0.12005676]]\n",
      "epoch 800 loss 0.004461025559716306 z [[0.09645524 0.90192461 0.90219031 0.08484735]]\n",
      "epoch 900 loss 0.0028436916336632635 z [[0.07621343 0.91943909 0.92374011 0.06808389]]\n"
     ]
    }
   ],
   "source": [
    "x = np.array([[0, 0, 1, 1],\n",
    "              [0, 1, 0, 1]])\n",
    "t = np.array([0, 1, 1, 0])\n",
    "\n",
    "input_dim = 2\n",
    "hidden_dim = 2\n",
    "output_dim = 1\n",
    "\n",
    "w = 2.0 * np.random.rand(hidden_dim, input_dim) - 1.0\n",
    "b = 2.0 * np.random.rand(hidden_dim, 1) - 1.0\n",
    "u = 2.0 * np.random.rand(output_dim, hidden_dim) -1.0\n",
    "c = 2.0 * np.random.rand(output_dim, 1) - 1.0\n",
    "\n",
    "layer1 = Affine(w, b)\n",
    "layer2 = Sigmoid()\n",
    "layer3 = Affine(u, c)\n",
    "layer4 = Sigmoid()\n",
    "layer5 = MSE()\n",
    "\n",
    "epoch = 1000\n",
    "for i in range(epoch):\n",
    "    p = layer1.forward(x)\n",
    "    y = layer2.forward(p)\n",
    "    q = layer3.forward(y)\n",
    "    z = layer4.forward(q)\n",
    "    loss = layer5.forward(z, t)\n",
    "    \n",
    "    dz = layer5.backward()\n",
    "    dq = layer4.backward(dz)\n",
    "    dy = layer3.backward(dq)\n",
    "    dp = layer2.backward(dy)\n",
    "    dx = layer1.backward(dp)\n",
    "    \n",
    "    layer1.update(1.0)\n",
    "    layer3.update(1.0)\n",
    "    \n",
    "    if i % 100 == 0:\n",
    "        print('epoch', i, 'loss', loss, 'z', z)"
   ]
  },
  {
   "cell_type": "code",
   "execution_count": 26,
   "metadata": {},
   "outputs": [
    {
     "name": "stdout",
     "output_type": "stream",
     "text": [
      "[[ 4.22786955 -4.5941637 ]\n",
      " [ 5.50647153 -5.78792623]]\n",
      "[[-2.25110444]\n",
      " [ 3.17054042]]\n",
      "[[ 7.18034835 -6.66447265]]\n",
      "[[3.03835718]]\n"
     ]
    }
   ],
   "source": [
    "print(layer1.w)\n",
    "print(layer1.b)\n",
    "print(layer3.w)\n",
    "print(layer3.b)"
   ]
  },
  {
   "cell_type": "markdown",
   "metadata": {},
   "source": [
    "## Exercise3.6"
   ]
  },
  {
   "cell_type": "code",
   "execution_count": 22,
   "metadata": {},
   "outputs": [
    {
     "name": "stdout",
     "output_type": "stream",
     "text": [
      "epoch 0 loss 0.20561897103820503 z [[0.6644826  0.6611677  0.68830996 0.68519603 0.66937829 0.66616216\n",
      "  0.69265339 0.68959471]]\n",
      "epoch 100 loss 0.055582011550532565 z [[0.14231997 0.14143149 0.17639407 0.17552511 0.11108769 0.11033755\n",
      "  0.13872199 0.1378099 ]]\n",
      "epoch 200 loss 0.05424170092587373 z [[0.12697608 0.13155549 0.16410898 0.16905545 0.10355733 0.10701018\n",
      "  0.13591852 0.14076965]]\n",
      "epoch 300 loss 0.05287675984563447 z [[0.12067616 0.13131137 0.1644597  0.17544722 0.10381013 0.11284863\n",
      "  0.1446393  0.15622151]]\n",
      "epoch 400 loss 0.05142679109765186 z [[0.11396193 0.13149581 0.16688459 0.18468494 0.10382358 0.12003371\n",
      "  0.15558898 0.17465411]]\n",
      "epoch 500 loss 0.04981690998482133 z [[0.10548966 0.13078278 0.16947179 0.19591026 0.10273703 0.12781021\n",
      "  0.16785491 0.1958413 ]]\n",
      "epoch 600 loss 0.04787568620553225 z [[0.09491987 0.12868696 0.17088008 0.20939326 0.10049125 0.13658202\n",
      "  0.18164291 0.22176607]]\n",
      "epoch 700 loss 0.0454279543232675 z [[0.08208315 0.12435929 0.16867913 0.22445125 0.09678231 0.14659109\n",
      "  0.196305   0.25406303]]\n",
      "epoch 800 loss 0.042365509542898375 z [[0.06753905 0.11685947 0.15973053 0.23872769 0.09132856 0.15765683\n",
      "  0.20992227 0.29299094]]\n",
      "epoch 900 loss 0.038686945823726435 z [[0.0528078  0.10588483 0.14238157 0.24875373 0.08431898 0.16943793\n",
      "  0.22029416 0.33781307]]\n"
     ]
    }
   ],
   "source": [
    "x = np.array([[0, 0, 0, 0, 1, 1, 1, 1],\n",
    "              [0, 0, 1, 1, 0, 0, 1, 1],\n",
    "              [0, 1, 0, 1, 0, 1, 0, 1]])\n",
    "t = np.array([0, 0, 0, 0, 0, 0, 0, 1])\n",
    "\n",
    "input_dim = 3\n",
    "hidden_dim = 3\n",
    "output_dim = 1\n",
    "\n",
    "w = 2.0 * np.random.rand(hidden_dim, input_dim) - 1.0\n",
    "b = 2.0 * np.random.rand(hidden_dim, 1) - 1.0\n",
    "u = 2.0 * np.random.rand(output_dim, hidden_dim) -1.0\n",
    "c = 2.0 * np.random.rand(output_dim, 1) - 1.0\n",
    "\n",
    "layer1 = Affine(w, b)\n",
    "layer2 = Sigmoid()\n",
    "layer3 = Affine(u, c)\n",
    "layer4 = Sigmoid()\n",
    "layer5 = MSE()\n",
    "\n",
    "epoch = 1000\n",
    "for i in range(epoch):\n",
    "    p = layer1.forward(x)\n",
    "    y = layer2.forward(p)\n",
    "    q = layer3.forward(y)\n",
    "    z = layer4.forward(q)\n",
    "    loss = layer5.forward(z, t)\n",
    "    \n",
    "    dz = layer5.backward()\n",
    "    dq = layer4.backward(dz)\n",
    "    dy = layer3.backward(dq)\n",
    "    dp = layer2.backward(dy)\n",
    "    dx = layer1.backward(dp)\n",
    "    \n",
    "    layer1.update()\n",
    "    layer3.update()\n",
    "    \n",
    "    if i % 100 == 0:\n",
    "        print('epoch', i, 'loss', loss, 'z', z)"
   ]
  },
  {
   "cell_type": "code",
   "execution_count": null,
   "metadata": {},
   "outputs": [],
   "source": []
  }
 ],
 "metadata": {
  "kernelspec": {
   "display_name": "Python 3",
   "language": "python",
   "name": "python3"
  },
  "language_info": {
   "codemirror_mode": {
    "name": "ipython",
    "version": 3
   },
   "file_extension": ".py",
   "mimetype": "text/x-python",
   "name": "python",
   "nbconvert_exporter": "python",
   "pygments_lexer": "ipython3",
   "version": "3.8.3"
  }
 },
 "nbformat": 4,
 "nbformat_minor": 4
}
