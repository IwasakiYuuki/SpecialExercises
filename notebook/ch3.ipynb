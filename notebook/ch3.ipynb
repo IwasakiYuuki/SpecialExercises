{
 "cells": [
  {
   "cell_type": "code",
   "execution_count": 23,
   "metadata": {},
   "outputs": [],
   "source": [
    "import numpy as np\n",
    "np.random.seed(seed=777)"
   ]
  },
  {
   "cell_type": "markdown",
   "metadata": {},
   "source": [
    "## Exercise3.1"
   ]
  },
  {
   "cell_type": "code",
   "execution_count": 34,
   "metadata": {},
   "outputs": [],
   "source": [
    "class Affine:\n",
    "    def __init__(self, w, b):\n",
    "        self.w = w\n",
    "        self.b = b\n",
    "        self.dw = None\n",
    "        self.db = None\n",
    "        self.input = None\n",
    "    \n",
    "    def forward(self, x):\n",
    "        self.input = x\n",
    "        y = np.dot(self.w, x) + self.b\n",
    "        return y\n",
    "    \n",
    "    def backward(self, dx):\n",
    "        self.dw = np.dot(dx ,self.input.T)\n",
    "        self.db = np.sum(dx, axis=1, keepdims=True)\n",
    "        return np.dot(self.w.T, dx)\n",
    "    \n",
    "    def update(self, lr=0.1):\n",
    "        self.w -= self.dw * lr\n",
    "        self.b -= self.db * lr\n",
    "    \n",
    "class Sigmoid:\n",
    "    def __init__(self):\n",
    "        self.output = None\n",
    "        \n",
    "    def forward(self, x):\n",
    "        y = 1 / (1 + np.exp(-x))\n",
    "        self.output = y\n",
    "        return y\n",
    "    \n",
    "    def backward(self, dx):\n",
    "        return dx * self.output * (1.0 - self.output)"
   ]
  },
  {
   "cell_type": "code",
   "execution_count": 25,
   "metadata": {},
   "outputs": [
    {
     "name": "stdout",
     "output_type": "stream",
     "text": [
      "[[0.98111578 0.98685385 0.98859632 0.99093144]]\n"
     ]
    }
   ],
   "source": [
    "x = np.array([[ 0, 0, 1, 1],\n",
    "              [ 0, 1, 0, 1]])\n",
    "w = np.array([[ 1.1, 0.7],\n",
    "              [0.3, 0.5]])\n",
    "b = np.array([[0.1],\n",
    "              [ 3]])\n",
    "u = np.array([[ 2, 2.1]])\n",
    "c = np.array([0.9])\n",
    "\n",
    "layer1 = Affine(w, b)\n",
    "layer2 = Sigmoid()\n",
    "layer3 = Affine(u, c)\n",
    "layer4 = Sigmoid()\n",
    "\n",
    "p = layer1.forward(x)\n",
    "y = layer2.forward(p)\n",
    "q = layer3.forward(y)\n",
    "z = layer4.forward(q)\n",
    "\n",
    "print(z)"
   ]
  },
  {
   "cell_type": "code",
   "execution_count": 26,
   "metadata": {},
   "outputs": [
    {
     "name": "stdout",
     "output_type": "stream",
     "text": [
      "[[0.92383547 0.93812899 0.93840737 0.9475542 ]]\n"
     ]
    }
   ],
   "source": [
    "x = np.array([[ 0, 0, 1, 1],\n",
    "              [ 0, 1, 0, 1]])\n",
    "w = np.array([[ 1, 0.5],\n",
    "              [0.11,1]])\n",
    "b = np.array([[0.3],\n",
    "              [ 2]])\n",
    "u = np.array([[ 1, 1.5]])\n",
    "c = np.array([0.6])\n",
    "\n",
    "\n",
    "layer1 = Affine(w, b)\n",
    "layer2 = Sigmoid()\n",
    "layer3 = Affine(u, c)\n",
    "layer4 = Sigmoid()\n",
    "\n",
    "p = layer1.forward(x)\n",
    "y = layer2.forward(p)\n",
    "q = layer3.forward(y)\n",
    "z = layer4.forward(q)\n",
    "\n",
    "print(z)"
   ]
  },
  {
   "cell_type": "markdown",
   "metadata": {},
   "source": [
    "## Exercise3.2"
   ]
  },
  {
   "cell_type": "code",
   "execution_count": 27,
   "metadata": {},
   "outputs": [],
   "source": [
    "class MSE:\n",
    "    def __init__(self):\n",
    "        self.output = None\n",
    "        self.t = None\n",
    "    \n",
    "    def forward(self, z, t):\n",
    "        data_num = z.shape[-1]\n",
    "        loss = np.sum((z - t) ** 2) / (2 * data_num)\n",
    "        self.z = z\n",
    "        self.t = t\n",
    "        return loss\n",
    "    \n",
    "    def backward(self):\n",
    "        return self.z - self.t"
   ]
  },
  {
   "cell_type": "code",
   "execution_count": 28,
   "metadata": {},
   "outputs": [
    {
     "name": "stdout",
     "output_type": "stream",
     "text": [
      "0.2198690776011607\n"
     ]
    }
   ],
   "source": [
    "x = np.array([[ 0, 0, 1, 1],\n",
    "              [ 0, 1, 0, 1]])\n",
    "t = np.array([0, 1, 1, 0])\n",
    "w = np.array([[ 1, 0.5],\n",
    "              [0.11, 1]])\n",
    "b = np.array([[0.3],\n",
    "              [ 2]])\n",
    "u = np.array([[ 1, 1.5]])\n",
    "c = np.array([0.6])\n",
    "\n",
    "\n",
    "layer1 = Affine(w, b)\n",
    "layer2 = Sigmoid()\n",
    "layer3 = Affine(u, c)\n",
    "layer4 = Sigmoid()\n",
    "layer5 = MSE()\n",
    "\n",
    "p = layer1.forward(x)\n",
    "y = layer2.forward(p)\n",
    "q = layer3.forward(y)\n",
    "z = layer4.forward(q)\n",
    "loss = layer5.forward(z, t)\n",
    "\n",
    "print(loss)"
   ]
  },
  {
   "cell_type": "markdown",
   "metadata": {},
   "source": [
    "## Exercise3.3"
   ]
  },
  {
   "cell_type": "code",
   "execution_count": 29,
   "metadata": {
    "scrolled": true
   },
   "outputs": [
    {
     "name": "stdout",
     "output_type": "stream",
     "text": [
      "0.1254586464038719\n"
     ]
    }
   ],
   "source": [
    "x = np.array([[0, 0, 1, 1],\n",
    "              [0, 1, 0, 1]])\n",
    "t = np.array([0, 1, 1, 0])\n",
    "\n",
    "input_dim = 2\n",
    "hidden_dim = 2\n",
    "output_dim = 1\n",
    "\n",
    "w = 2.0 * np.random.rand(hidden_dim, input_dim) - 1.0\n",
    "b = 2.0 * np.random.rand(hidden_dim, 1) - 1.0\n",
    "u = 2.0 * np.random.rand(output_dim, hidden_dim) -1.0\n",
    "c = 2.0 * np.random.rand(output_dim, 1) - 1.0\n",
    "\n",
    "layer1 = Affine(w, b)\n",
    "layer2 = Sigmoid()\n",
    "layer3 = Affine(u, c)\n",
    "layer4 = Sigmoid()\n",
    "layer5 = MSE()\n",
    "\n",
    "p = layer1.forward(x)\n",
    "y = layer2.forward(p)\n",
    "q = layer3.forward(y)\n",
    "z = layer4.forward(q)\n",
    "loss = layer5.forward(z, t)\n",
    "\n",
    "print(loss)"
   ]
  },
  {
   "cell_type": "markdown",
   "metadata": {},
   "source": [
    "## Exercise3.4"
   ]
  },
  {
   "cell_type": "code",
   "execution_count": 30,
   "metadata": {
    "scrolled": true
   },
   "outputs": [
    {
     "name": "stdout",
     "output_type": "stream",
     "text": [
      "epoch 0 loss 0.11059875819525353 y [[0.30140249 0.16058501 0.36526844 0.20329552]]\n",
      "epoch 100 loss 0.07264510880272602 y [[0.22688731 0.27025334 0.39495912 0.45168125]]\n",
      "epoch 200 loss 0.0527648595295762 y [[0.14751532 0.29044564 0.34971152 0.55988491]]\n",
      "epoch 300 loss 0.0417154667463111 y [[0.09939268 0.28169867 0.30972685 0.61456522]]\n",
      "epoch 400 loss 0.03449939597385088 y [[0.07045038 0.26694585 0.28070435 0.65218267]]\n",
      "epoch 500 loss 0.029323894473012743 y [[0.05202754 0.25143319 0.25849141 0.68086392]]\n",
      "epoch 600 loss 0.025403024800220022 y [[0.03971709 0.23684354 0.24062763 0.70394218]]\n",
      "epoch 700 loss 0.022326384745484495 y [[0.03115796 0.22363927 0.22575441 0.72312334]]\n",
      "epoch 800 loss 0.019851247873327545 y [[0.02500759 0.21184582 0.21307449 0.73941371]]\n",
      "epoch 900 loss 0.017821589787150982 y [[0.02046322 0.20134291 0.20208214 0.75346842]]\n"
     ]
    }
   ],
   "source": [
    "x = np.array([[0, 0, 1, 1],\n",
    "              [0, 1, 0, 1]])\n",
    "t = np.array([0, 0, 0, 1])\n",
    "\n",
    "input_dim = 2\n",
    "hidden_dim = 2\n",
    "output_dim = 1\n",
    "\n",
    "w = 2.0 * np.random.rand(1, 2) - 1.0\n",
    "b = 2.0 * np.random.rand(1, 1) - 1.0\n",
    "\n",
    "layer1 = Affine(w, b)\n",
    "layer2 = Sigmoid()\n",
    "layer3 = MSE()\n",
    "\n",
    "epoch = 1000\n",
    "for i in range(epoch):\n",
    "    p = layer1.forward(x)\n",
    "    y = layer2.forward(p)\n",
    "    loss = layer3.forward(y, t)\n",
    "    \n",
    "    dy = layer3.backward()\n",
    "    dp = layer2.backward(dy)\n",
    "    dx = layer1.backward(dp)\n",
    "    \n",
    "    layer1.update()\n",
    "    \n",
    "    if i % 100 == 0:\n",
    "        print('epoch', i, 'loss', loss, 'y', y)"
   ]
  },
  {
   "cell_type": "code",
   "execution_count": 31,
   "metadata": {},
   "outputs": [
    {
     "name": "stdout",
     "output_type": "stream",
     "text": [
      "[[2.62166652 2.61870924]]\n",
      "[[-4.05594338]]\n"
     ]
    }
   ],
   "source": [
    "print(layer1.w)\n",
    "print(layer1.b)"
   ]
  },
  {
   "cell_type": "markdown",
   "metadata": {},
   "source": [
    "## Exercise3.5"
   ]
  },
  {
   "cell_type": "code",
   "execution_count": 46,
   "metadata": {},
   "outputs": [
    {
     "name": "stdout",
     "output_type": "stream",
     "text": [
      "epoch 0 loss 0.15204323825415406 z [[0.27212618 0.25355694 0.27947781 0.25683413]]\n",
      "epoch 100 loss 0.12491812302528318 z [[0.4974564  0.47701241 0.51375045 0.49186123]]\n",
      "epoch 200 loss 0.12486327922122517 z [[0.50061296 0.4810215  0.51545798 0.49413889]]\n",
      "epoch 300 loss 0.12481235152507161 z [[0.50103826 0.48223945 0.51448467 0.49361762]]\n",
      "epoch 400 loss 0.12475999489193047 z [[0.50138341 0.48334983 0.51353687 0.49307288]]\n",
      "epoch 500 loss 0.12470479051775153 z [[0.50167645 0.48439872 0.51262477 0.49252387]]\n",
      "epoch 600 loss 0.1246452849893923 z [[0.50191949 0.4854047  0.51173512 0.4919636 ]]\n",
      "epoch 700 loss 0.12457991090224935 z [[0.50211313 0.48638417 0.51085588 0.49138427]]\n",
      "epoch 800 loss 0.12450690297160244 z [[0.50225678 0.4873522  0.50997619 0.49077718]]\n",
      "epoch 900 loss 0.12442420165686195 z [[0.50234852 0.48832301 0.50908609 0.4901324 ]]\n"
     ]
    }
   ],
   "source": [
    "x = np.array([[0, 0, 1, 1],\n",
    "              [0, 1, 0, 1]])\n",
    "t = np.array([0, 1, 1, 0])\n",
    "\n",
    "input_dim = 2\n",
    "hidden_dim = 2\n",
    "output_dim = 1\n",
    "\n",
    "w = 2.0 * np.random.rand(hidden_dim, input_dim) - 1.0\n",
    "b = 2.0 * np.random.rand(hidden_dim, 1) - 1.0\n",
    "u = 2.0 * np.random.rand(output_dim, hidden_dim) -1.0\n",
    "c = 2.0 * np.random.rand(output_dim, 1) - 1.0\n",
    "\n",
    "layer1 = Affine(w, b)\n",
    "layer2 = Sigmoid()\n",
    "layer3 = Affine(u, c)\n",
    "layer4 = Sigmoid()\n",
    "layer5 = MSE()\n",
    "\n",
    "epoch = 1000\n",
    "for i in range(epoch):\n",
    "    p = layer1.forward(x)\n",
    "    y = layer2.forward(p)\n",
    "    q = layer3.forward(y)\n",
    "    z = layer4.forward(q)\n",
    "    loss = layer5.forward(z, t)\n",
    "    \n",
    "    dz = layer5.backward()\n",
    "    dq = layer4.backward(dz)\n",
    "    dy = layer3.backward(dq)\n",
    "    dp = layer2.backward(dy)\n",
    "    dx = layer1.backward(dp)\n",
    "    \n",
    "    layer1.update()\n",
    "    layer3.update()\n",
    "    \n",
    "    if i % 100 == 0:\n",
    "        print('epoch', i, 'loss', loss, 'z', z)"
   ]
  },
  {
   "cell_type": "code",
   "execution_count": 47,
   "metadata": {},
   "outputs": [
    {
     "name": "stdout",
     "output_type": "stream",
     "text": [
      "[[ 0.86372139 -0.53982643]\n",
      " [-0.50788136  0.73945878]]\n",
      "[[0.68495925]\n",
      " [0.37703061]]\n",
      "[[-0.30449143 -0.57104264]]\n",
      "[[0.55069743]]\n"
     ]
    }
   ],
   "source": [
    "print(layer1.w)\n",
    "print(layer1.b)\n",
    "print(layer3.w)\n",
    "print(layer3.b)"
   ]
  },
  {
   "cell_type": "markdown",
   "metadata": {},
   "source": [
    "## Exercise3.6"
   ]
  },
  {
   "cell_type": "code",
   "execution_count": 21,
   "metadata": {},
   "outputs": [
    {
     "name": "stdout",
     "output_type": "stream",
     "text": [
      "epoch 0 loss 0.17690235209354777 z [[0.62928399 0.57178164 0.61500756 0.56010094 0.66933126 0.61392665\n",
      "  0.65486437 0.59775619]]\n",
      "epoch 100 loss 0.052713013162974214 z [[0.11659838 0.10989886 0.117338   0.11243693 0.17479033 0.16268824\n",
      "  0.17256007 0.1606378 ]]\n",
      "epoch 200 loss 0.04931787762367572 z [[0.09855812 0.10819367 0.11218716 0.12304287 0.1645086  0.17825294\n",
      "  0.18168291 0.19495647]]\n",
      "epoch 300 loss 0.0456762582078188 z [[0.08217233 0.1072837  0.10878269 0.14025589 0.1577561  0.19899507\n",
      "  0.19596753 0.23962946]]\n",
      "epoch 400 loss 0.042464826817693896 z [[0.06474862 0.10163783 0.10146459 0.15459146 0.14623711 0.21354401\n",
      "  0.2050499  0.27771944]]\n",
      "epoch 500 loss 0.03946374387171253 z [[0.04920858 0.09324442 0.09239715 0.16621272 0.13172221 0.22363489\n",
      "  0.21119627 0.31285167]]\n",
      "epoch 600 loss 0.03647316948172048 z [[0.03639883 0.08311034 0.08252411 0.17554266 0.11513199 0.22975958\n",
      "  0.21501158 0.34774374]]\n",
      "epoch 700 loss 0.03343941497473246 z [[0.02636951 0.07196478 0.07234721 0.18257792 0.09754615 0.23162986\n",
      "  0.21645116 0.38309742]]\n",
      "epoch 800 loss 0.03038544915581646 z [[0.01882972 0.0605938  0.06227559 0.18716329 0.08029152 0.22914107\n",
      "  0.21558774 0.41879243]]\n",
      "epoch 900 loss 0.027367766485313486 z [[0.0133333  0.04976431 0.05263959 0.18916173 0.06453193 0.22272102\n",
      "  0.21264761 0.45439127]]\n"
     ]
    }
   ],
   "source": [
    "x = np.array([[0, 0, 0, 0, 1, 1, 1, 1],\n",
    "              [0, 0, 1, 1, 0, 0, 1, 1],\n",
    "              [0, 1, 0, 1, 0, 1, 0, 1]])\n",
    "t = np.array([0, 0, 0, 0, 0, 0, 0, 1])\n",
    "\n",
    "input_dim = 3\n",
    "hidden_dim = 3\n",
    "output_dim = 1\n",
    "\n",
    "w = 2.0 * np.random.rand(hidden_dim, input_dim) - 1.0\n",
    "b = 2.0 * np.random.rand(hidden_dim, 1) - 1.0\n",
    "u = 2.0 * np.random.rand(output_dim, hidden_dim) -1.0\n",
    "c = 2.0 * np.random.rand(output_dim, 1) - 1.0\n",
    "\n",
    "layer1 = Affine(w, b)\n",
    "layer2 = Sigmoid()\n",
    "layer3 = Affine(u, c)\n",
    "layer4 = Sigmoid()\n",
    "layer5 = MSE()\n",
    "\n",
    "epoch = 1000\n",
    "for i in range(epoch):\n",
    "    p = layer1.forward(x)\n",
    "    y = layer2.forward(p)\n",
    "    q = layer3.forward(y)\n",
    "    z = layer4.forward(q)\n",
    "    loss = layer5.forward(z, t)\n",
    "    \n",
    "    dz = layer5.backward()\n",
    "    dq = layer4.backward(dz)\n",
    "    dy = layer3.backward(dq)\n",
    "    dp = layer2.backward(dy)\n",
    "    dx = layer1.backward(dp)\n",
    "    \n",
    "    layer1.update()\n",
    "    layer3.update()\n",
    "    \n",
    "    if i % 100 == 0:\n",
    "        print('epoch', i, 'loss', loss, 'z', z)"
   ]
  },
  {
   "cell_type": "code",
   "execution_count": null,
   "metadata": {},
   "outputs": [],
   "source": []
  }
 ],
 "metadata": {
  "kernelspec": {
   "display_name": "Python 3",
   "language": "python",
   "name": "python3"
  },
  "language_info": {
   "codemirror_mode": {
    "name": "ipython",
    "version": 3
   },
   "file_extension": ".py",
   "mimetype": "text/x-python",
   "name": "python",
   "nbconvert_exporter": "python",
   "pygments_lexer": "ipython3",
   "version": "3.8.3"
  }
 },
 "nbformat": 4,
 "nbformat_minor": 4
}
