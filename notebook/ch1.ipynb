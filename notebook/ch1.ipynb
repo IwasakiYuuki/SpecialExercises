{
 "cells": [
  {
   "cell_type": "markdown",
   "metadata": {},
   "source": [
    "## Exercise1.6"
   ]
  },
  {
   "cell_type": "code",
   "execution_count": 1,
   "metadata": {},
   "outputs": [],
   "source": [
    "import numpy as np"
   ]
  },
  {
   "cell_type": "code",
   "execution_count": 2,
   "metadata": {},
   "outputs": [
    {
     "name": "stdout",
     "output_type": "stream",
     "text": [
      "[[1 1 1]\n",
      " [1 0 0]\n",
      " [1 0 1]\n",
      " [0 1 1]]\n",
      "[[1 1 1]\n",
      " [1 0 0]\n",
      " [0 1 1]\n",
      " [0 0 1]]\n"
     ]
    }
   ],
   "source": [
    "class FormalNeuronLayer:\n",
    "    def __init__(self, w, h):\n",
    "        self.w = w\n",
    "        self.h = h\n",
    "\n",
    "    def forward(self, x):\n",
    "        p = np.dot(self.w, x)\n",
    "        y = p > self.h\n",
    "        return y.astype(np.int)\n",
    "\n",
    "\n",
    "x = np.array([[1, 1, 1],\n",
    "              [0, 1, 0],\n",
    "              [1, 0, 0],\n",
    "              [0, 0, 1]])\n",
    "\n",
    "w = np.array([[3, 2, 2, 0],\n",
    "              [4, 1, 5, 2],\n",
    "              [1, 0, 1, 4],\n",
    "              [0, 1, 0, 1]])\n",
    "\n",
    "h = np.array([[2],\n",
    "              [6],\n",
    "              [1],\n",
    "              [0]])\n",
    "\n",
    "u = np.array([[4, 1, 4, 3],\n",
    "              [2, 3, 0, 1],\n",
    "              [0, 1, 2, 4],\n",
    "              [3, 1, 1, 2]])\n",
    "\n",
    "g = np.array([[1],\n",
    "              [4],\n",
    "              [3],\n",
    "              [5]])\n",
    "\n",
    "formalNeuron1 = FormalNeuronLayer(w,h)\n",
    "formalNeuron2 = FormalNeuronLayer(u,g)\n",
    "\n",
    "y = formalNeuron1.forward(x)\n",
    "print(y)\n",
    "\n",
    "z = formalNeuron2.forward(y)\n",
    "print(z)"
   ]
  },
  {
   "cell_type": "code",
   "execution_count": 4,
   "metadata": {},
   "outputs": [
    {
     "data": {
      "text/plain": [
       "array([[5, 5, 3],\n",
       "       [9, 5, 6],\n",
       "       [2, 1, 5],\n",
       "       [0, 1, 1]])"
      ]
     },
     "execution_count": 4,
     "metadata": {},
     "output_type": "execute_result"
    }
   ],
   "source": [
    "np.dot(w, x)"
   ]
  },
  {
   "cell_type": "code",
   "execution_count": 5,
   "metadata": {},
   "outputs": [
    {
     "data": {
      "text/plain": [
       "array([[ 9,  7, 11],\n",
       "       [ 5,  3,  3],\n",
       "       [ 3,  4,  6],\n",
       "       [ 5,  5,  6]])"
      ]
     },
     "execution_count": 5,
     "metadata": {},
     "output_type": "execute_result"
    }
   ],
   "source": [
    "np.dot(u, y)"
   ]
  },
  {
   "cell_type": "code",
   "execution_count": null,
   "metadata": {},
   "outputs": [],
   "source": []
  }
 ],
 "metadata": {
  "kernelspec": {
   "display_name": "Python 3",
   "language": "python",
   "name": "python3"
  },
  "language_info": {
   "codemirror_mode": {
    "name": "ipython",
    "version": 3
   },
   "file_extension": ".py",
   "mimetype": "text/x-python",
   "name": "python",
   "nbconvert_exporter": "python",
   "pygments_lexer": "ipython3",
   "version": "3.8.3"
  }
 },
 "nbformat": 4,
 "nbformat_minor": 4
}
