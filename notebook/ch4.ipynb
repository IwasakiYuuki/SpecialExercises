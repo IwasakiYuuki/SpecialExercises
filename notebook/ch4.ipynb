{
 "cells": [
  {
   "cell_type": "code",
   "execution_count": 1,
   "metadata": {
    "scrolled": true
   },
   "outputs": [],
   "source": [
    "import os\n",
    "import numpy as np\n",
    "from sklearn.datasets import fetch_openml\n",
    "import matplotlib.pyplot as plt"
   ]
  },
  {
   "cell_type": "code",
   "execution_count": 2,
   "metadata": {},
   "outputs": [],
   "source": [
    "class Affine:\n",
    "    def __init__(self, w, b):\n",
    "        self.w = w\n",
    "        self.b = b\n",
    "        self.dw = None\n",
    "        self.db = None\n",
    "        self.input = None\n",
    "    \n",
    "    def forward(self, x):\n",
    "        self.input = x\n",
    "        y = np.dot(self.w, x) + self.b\n",
    "        return y\n",
    "    \n",
    "    def backward(self, dx):\n",
    "        self.dw = np.dot(dx ,self.input.T)\n",
    "        self.db = np.sum(dx, axis=1, keepdims=True)\n",
    "        return np.dot(self.w.T, dx)\n",
    "    \n",
    "    def update(self, lr=0.1):\n",
    "        self.w -= self.dw * lr\n",
    "        self.b -= self.db * lr\n",
    "    \n",
    "class Sigmoid:\n",
    "    def __init__(self):\n",
    "        self.output = None\n",
    "        \n",
    "    def forward(self, x):\n",
    "        y = 1 / (1 + np.exp(-x))\n",
    "        self.output = y\n",
    "        return y\n",
    "    \n",
    "    def backward(self, dx):\n",
    "        return dx * self.output * (1.0 - self.output)\n",
    "    \n",
    "class MSE:\n",
    "    def __init__(self):\n",
    "        self.output = None\n",
    "        self.t = None\n",
    "    \n",
    "    def forward(self, z, t):\n",
    "        data_num = z.shape[-1]\n",
    "        loss = np.sum((z - t) ** 2) / (2 * data_num)\n",
    "        self.z = z\n",
    "        self.t = t\n",
    "        return loss\n",
    "    \n",
    "    def backward(self):\n",
    "        return self.z - self.t\n",
    "    \n",
    "class SigmoidAndCrossEntropy:\n",
    "    def __init__(self):\n",
    "        self.y = None\n",
    "        self.t = None\n",
    "        \n",
    "    def forward(self, x, t):\n",
    "        y = 1 / (1 + np.exp(-x))\n",
    "        data_num = y.shape[-1]\n",
    "        loss = -1 * (t * np.log(y) + (1 - t) * np.log(1 - y)).mean()\n",
    "        self.y = y\n",
    "        self.t = t\n",
    "        return loss\n",
    "        \n",
    "    def backward(self):\n",
    "        return self.y - self.t"
   ]
  },
  {
   "cell_type": "markdown",
   "metadata": {},
   "source": [
    "## Exercise4.1-1"
   ]
  },
  {
   "cell_type": "code",
   "execution_count": 21,
   "metadata": {},
   "outputs": [
    {
     "name": "stdout",
     "output_type": "stream",
     "text": [
      "epoch 0 loss 0.706575883796967 y [[0.587688   0.53509165 0.58682017 0.54249822]]\n",
      "epoch 100 loss 0.6904405173924182 y [[0.50075134 0.52039929 0.47843631 0.49171858]]\n",
      "epoch 200 loss 0.21629958627642565 y [[0.20741608 0.88634178 0.72301019 0.17118378]]\n",
      "epoch 300 loss 0.0234047518994882 y [[0.02277354 0.97216757 0.97750472 0.01941201]]\n",
      "epoch 400 loss 0.011920514314600485 y [[0.01151172 0.9850331  0.98898454 0.00989765]]\n",
      "epoch 500 loss 0.007947573541286022 y [[0.0076516  0.98983841 0.99275481 0.00660224]]\n",
      "epoch 600 loss 0.005946770652306348 y [[0.00571502 0.99232783 0.99461493 0.00494204]]\n",
      "epoch 700 loss 0.004745125096296916 y [[0.00455449 0.99384518 0.99571994 0.00394472]]\n",
      "epoch 800 loss 0.003944749204570458 y [[0.00378266 0.99486506 0.99645101 0.00328031]]\n",
      "epoch 900 loss 0.0033739198761100543 y [[0.00323279 0.99559694 0.99697005 0.00280637]]\n"
     ]
    }
   ],
   "source": [
    "x = np.array([[0, 0, 1, 1],\n",
    "              [0, 1, 0, 1]])\n",
    "t = np.array([0, 1, 1, 0])\n",
    "\n",
    "input_dim = 2\n",
    "hidden_dim = 2\n",
    "output_dim = 1\n",
    "\n",
    "w = 2.0 * np.random.rand(hidden_dim, input_dim) - 1.0\n",
    "b = 2.0 * np.random.rand(hidden_dim, 1) - 1.0\n",
    "u = 2.0 * np.random.rand(output_dim, hidden_dim) -1.0\n",
    "c = 2.0 * np.random.rand(output_dim, 1) - 1.0\n",
    "\n",
    "layer1 = Affine(w, b)\n",
    "layer2 = Sigmoid()\n",
    "layer3 = Affine(u, c)\n",
    "layer4 = SigmoidAndCrossEntropy()\n",
    "\n",
    "epoch = 1000\n",
    "for i in range(epoch):\n",
    "    p = layer1.forward(x)\n",
    "    y = layer2.forward(p)\n",
    "    q = layer3.forward(y)\n",
    "    loss = layer4.forward(q, t)\n",
    "    \n",
    "    dq = layer4.backward()\n",
    "    dy = layer3.backward(dq)\n",
    "    dp = layer2.backward(dy)\n",
    "    dx = layer1.backward(dp)\n",
    "    \n",
    "    layer1.update()\n",
    "    layer3.update()\n",
    "    \n",
    "    if i % 100 == 0:\n",
    "        print('epoch', i, 'loss', loss, 'y', layer4.y)"
   ]
  },
  {
   "cell_type": "markdown",
   "metadata": {},
   "source": [
    "## Exercise4.1-2"
   ]
  },
  {
   "cell_type": "code",
   "execution_count": 22,
   "metadata": {},
   "outputs": [
    {
     "name": "stdout",
     "output_type": "stream",
     "text": [
      "epoch 0 loss 0.7424335089477943 y [[0.30996943 0.28534938 0.45070116 0.42173493]]\n",
      "epoch 100 loss 0.6931471805599454 y [[0.5 0.5 0.5 0.5]]\n",
      "epoch 200 loss 0.6931471805599452 y [[0.5 0.5 0.5 0.5]]\n",
      "epoch 300 loss 0.6931471805599453 y [[0.5 0.5 0.5 0.5]]\n",
      "epoch 400 loss 0.6931471805599453 y [[0.5 0.5 0.5 0.5]]\n",
      "epoch 500 loss 0.6931471805599453 y [[0.5 0.5 0.5 0.5]]\n",
      "epoch 600 loss 0.6931471805599453 y [[0.5 0.5 0.5 0.5]]\n",
      "epoch 700 loss 0.6931471805599453 y [[0.5 0.5 0.5 0.5]]\n",
      "epoch 800 loss 0.6931471805599453 y [[0.5 0.5 0.5 0.5]]\n",
      "epoch 900 loss 0.6931471805599453 y [[0.5 0.5 0.5 0.5]]\n"
     ]
    }
   ],
   "source": [
    "x = np.array([[0, 0, 1, 1],\n",
    "              [0, 1, 0, 1]])\n",
    "t = np.array([0, 1, 1, 0])\n",
    "\n",
    "input_dim = 2\n",
    "output_dim = 1\n",
    "\n",
    "w = 2.0 * np.random.rand(output_dim, input_dim) - 1.0\n",
    "b = 2.0 * np.random.rand(output_dim, 1) - 1.0\n",
    "\n",
    "\n",
    "layer1 = Affine(w, b)\n",
    "layer2 = SigmoidAndCrossEntropy()\n",
    "\n",
    "epoch = 1000\n",
    "for i in range(epoch):\n",
    "    p = layer1.forward(x)\n",
    "    loss = layer2.forward(p, t)\n",
    "    \n",
    "    dp = layer2.backward()\n",
    "    dx = layer1.backward(dp)\n",
    "    \n",
    "    layer1.update()\n",
    "    \n",
    "    if i % 100 == 0:\n",
    "        print('epoch', i, 'loss', loss, 'y', layer2.y)"
   ]
  },
  {
   "cell_type": "markdown",
   "metadata": {},
   "source": [
    "## Exercise4.1-3"
   ]
  },
  {
   "cell_type": "code",
   "execution_count": 23,
   "metadata": {},
   "outputs": [
    {
     "name": "stdout",
     "output_type": "stream",
     "text": [
      "epoch 0 loss 0.7569672267475516 y [[0.68545861 0.6991134  0.6918391  0.70733958 0.63240986 0.64532427\n",
      "  0.64019012 0.65242227]]\n",
      "epoch 100 loss 0.7073718682628555 y [[0.53652657 0.59627517 0.60144254 0.61633766 0.59582246 0.6147338\n",
      "  0.61597021 0.62012729]]\n",
      "epoch 200 loss 0.6724121053595216 y [[0.27892378 0.9027918  0.93097588 0.78106731 0.90232495 0.74981821\n",
      "  0.7807005  0.70198355]]\n",
      "epoch 300 loss 0.2946331684145387 y [[0.0154804  0.98377857 0.98341429 0.26103761 0.98371482 0.26104629\n",
      "  0.26099229 0.25045144]]\n",
      "epoch 400 loss 0.15213501825753073 y [[0.01807941 0.98631608 0.98653915 0.18770692 0.9864161  0.19438622\n",
      "  0.18458219 0.58876505]]\n",
      "epoch 500 loss 0.018658455420743073 y [[0.00813286 0.99146177 0.99143895 0.01927338 0.99147439 0.01926457\n",
      "  0.01927361 0.94460283]]\n",
      "epoch 600 loss 0.009111424717798097 y [[0.00623282 0.99464088 0.99461915 0.00893111 0.99464553 0.00892677\n",
      "  0.0089311  0.9766841 ]]\n",
      "epoch 700 loss 0.006058859138923263 y [[0.00494459 0.99609562 0.99607875 0.00573614 0.9960983  0.00573344\n",
      "  0.00573606 0.98559622]]\n",
      "epoch 800 loss 0.004541127287450968 y [[0.00406436 0.99692887 0.9969156  0.0042048  0.9969307  0.00420288\n",
      "  0.00420472 0.98967533]]\n",
      "epoch 900 loss 0.0036303120997505196 y [[0.00343882 0.99746968 0.99745898 0.00331059 0.99747104 0.00330913\n",
      "  0.00331051 0.99199113]]\n"
     ]
    }
   ],
   "source": [
    "x = np.array([[0, 0, 0, 0, 1, 1, 1, 1],\n",
    "              [0, 0, 1, 1, 0, 0, 1, 1],\n",
    "              [0, 1, 0, 1, 0, 1, 0, 1]])\n",
    "t = np.array([0, 1, 1, 0, 1, 0, 0, 1])\n",
    "\n",
    "input_dim = 3\n",
    "hidden_dim = 3\n",
    "output_dim = 1\n",
    "\n",
    "w = 2.0 * np.random.rand(hidden_dim, input_dim) - 1.0\n",
    "b = 2.0 * np.random.rand(hidden_dim, 1) - 1.0\n",
    "u = 2.0 * np.random.rand(output_dim, hidden_dim) -1.0\n",
    "c = 2.0 * np.random.rand(output_dim, 1) - 1.0\n",
    "\n",
    "layer1 = Affine(w, b)\n",
    "layer2 = Sigmoid()\n",
    "layer3 = Affine(u, c)\n",
    "layer4 = SigmoidAndCrossEntropy()\n",
    "\n",
    "epoch = 1000\n",
    "for i in range(epoch):\n",
    "    p = layer1.forward(x)\n",
    "    y = layer2.forward(p)\n",
    "    q = layer3.forward(y)\n",
    "    loss = layer4.forward(q, t)\n",
    "    \n",
    "    dq = layer4.backward()\n",
    "    dy = layer3.backward(dq)\n",
    "    dp = layer2.backward(dy)\n",
    "    dx = layer1.backward(dp)\n",
    "    \n",
    "    layer1.update()\n",
    "    layer3.update()\n",
    "    \n",
    "    if i % 100 == 0:\n",
    "        print('epoch', i, 'loss', loss, 'y', layer4.y)"
   ]
  },
  {
   "cell_type": "markdown",
   "metadata": {},
   "source": [
    "## Exercise4.1-4"
   ]
  },
  {
   "cell_type": "code",
   "execution_count": 26,
   "metadata": {
    "scrolled": true
   },
   "outputs": [
    {
     "name": "stdout",
     "output_type": "stream",
     "text": [
      "epoch 0 loss 0.9147069950881772 y [[0.18132317 0.20212241 0.19277975 0.2141089  0.18903368 0.21034223\n",
      "  0.20094485 0.22196107]]\n",
      "epoch 100 loss 0.6799459912079164 y [[0.2238357  0.41961782 0.42089837 0.44748853 0.4176084  0.44611058\n",
      "  0.44698556 0.4480957 ]]\n",
      "epoch 200 loss 0.31889976174503487 y [[0.04768285 0.95429884 0.95419229 0.27965573 0.95431132 0.279603\n",
      "  0.27965005 0.25210487]]\n",
      "epoch 300 loss 0.29268989371340814 y [[0.01671347 0.98719876 0.98717467 0.25770721 0.98720166 0.2576925\n",
      "  0.25770563 0.24858294]]\n",
      "epoch 400 loss 0.2878071102047187 y [[0.00976738 0.99276831 0.99275731 0.25432396 0.99276964 0.25431711\n",
      "  0.25432322 0.2489568 ]]\n",
      "epoch 500 loss 0.2857938320621163 y [[0.00684852 0.99501346 0.99500686 0.25297237 0.99501426 0.25296831\n",
      "  0.25297193 0.24919429]]\n",
      "epoch 600 loss 0.28470357514924327 y [[0.00525623 0.99621417 0.99620964 0.25225178 0.99621472 0.25224905\n",
      "  0.25225148 0.24934629]]\n",
      "epoch 700 loss 0.2840225558607353 y [[0.00425744 0.99695782 0.99695446 0.25180624 0.99695823 0.25180427\n",
      "  0.25180603 0.24945081]]\n",
      "epoch 800 loss 0.2835578098442147 y [[0.00357388 0.99746207 0.99745944 0.25150448 0.99746239 0.25150298\n",
      "  0.25150432 0.24952692]]\n",
      "epoch 900 loss 0.2832209220542392 y [[0.00307729 0.99782575 0.9978236  0.25128705 0.99782601 0.25128586\n",
      "  0.25128692 0.24958481]]\n"
     ]
    }
   ],
   "source": [
    "x = np.array([[0, 0, 0, 0, 1, 1, 1, 1],\n",
    "              [0, 0, 1, 1, 0, 0, 1, 1],\n",
    "              [0, 1, 0, 1, 0, 1, 0, 1]])\n",
    "t = np.array([0, 1, 1, 0, 1, 0, 0, 1])\n",
    "\n",
    "input_dim = 3\n",
    "hidden_dim = 2\n",
    "output_dim = 1\n",
    "\n",
    "w = 2.0 * np.random.rand(hidden_dim, input_dim) - 1.0\n",
    "b = 2.0 * np.random.rand(hidden_dim, 1) - 1.0\n",
    "u = 2.0 * np.random.rand(output_dim, hidden_dim) -1.0\n",
    "c = 2.0 * np.random.rand(output_dim, 1) - 1.0\n",
    "\n",
    "layer1 = Affine(w, b)\n",
    "layer2 = Sigmoid()\n",
    "layer3 = Affine(u, c)\n",
    "layer4 = SigmoidAndCrossEntropy()\n",
    "\n",
    "epoch = 1000\n",
    "for i in range(epoch):\n",
    "    p = layer1.forward(x)\n",
    "    y = layer2.forward(p)\n",
    "    q = layer3.forward(y)\n",
    "    loss = layer4.forward(q, t)\n",
    "    \n",
    "    dq = layer4.backward()\n",
    "    dy = layer3.backward(dq)\n",
    "    dp = layer2.backward(dy)\n",
    "    dx = layer1.backward(dp)\n",
    "    \n",
    "    layer1.update()\n",
    "    layer3.update()\n",
    "    \n",
    "    if i % 100 == 0:\n",
    "        print('epoch', i, 'loss', loss, 'y', layer4.y)"
   ]
  },
  {
   "cell_type": "markdown",
   "metadata": {},
   "source": [
    "## Exercise4.1-5"
   ]
  },
  {
   "cell_type": "code",
   "execution_count": 28,
   "metadata": {},
   "outputs": [
    {
     "name": "stdout",
     "output_type": "stream",
     "text": [
      "epoch 0 loss 0.7553541323511623 y [[0.50464905 0.65204633 0.61957603 0.74973485 0.39398684 0.54459751\n",
      "  0.50964084 0.65656362]\n",
      " [0.45240716 0.57220675 0.27511962 0.3806027  0.30495321 0.41532105\n",
      "  0.16774805 0.24603684]]\n",
      "epoch 100 loss 1.6560977441839155 y [[0.85757581 0.93908255 0.939082   0.97528834 0.93907841 0.97528683\n",
      "  0.9752866  0.99019947]\n",
      " [0.1424422  0.06092417 0.06091703 0.02471053 0.06091784 0.02471087\n",
      "  0.02470786 0.00979801]]\n",
      "epoch 200 loss 1.6560541576131014 y [[0.85759341 0.93908164 0.93908164 0.97528433 0.93908164 0.97528433\n",
      "  0.97528433 0.990197  ]\n",
      " [0.14240664 0.06091836 0.06091836 0.02471566 0.06091836 0.02471566\n",
      "  0.02471566 0.00980299]]\n",
      "epoch 300 loss 1.6560540436134215 y [[0.85759345 0.93908164 0.93908164 0.97528433 0.93908164 0.97528433\n",
      "  0.97528433 0.990197  ]\n",
      " [0.14240655 0.06091836 0.06091836 0.02471567 0.06091836 0.02471567\n",
      "  0.02471567 0.009803  ]]\n",
      "epoch 400 loss 1.65605404331527 y [[0.85759345 0.93908164 0.93908164 0.97528433 0.93908164 0.97528433\n",
      "  0.97528433 0.990197  ]\n",
      " [0.14240655 0.06091836 0.06091836 0.02471567 0.06091836 0.02471567\n",
      "  0.02471567 0.009803  ]]\n",
      "epoch 500 loss 1.6560540433144892 y [[0.85759345 0.93908164 0.93908164 0.97528433 0.93908164 0.97528433\n",
      "  0.97528433 0.990197  ]\n",
      " [0.14240655 0.06091836 0.06091836 0.02471567 0.06091836 0.02471567\n",
      "  0.02471567 0.009803  ]]\n",
      "epoch 600 loss 1.6560540433144886 y [[0.85759345 0.93908164 0.93908164 0.97528433 0.93908164 0.97528433\n",
      "  0.97528433 0.990197  ]\n",
      " [0.14240655 0.06091836 0.06091836 0.02471567 0.06091836 0.02471567\n",
      "  0.02471567 0.009803  ]]\n",
      "epoch 700 loss 1.6560540433144886 y [[0.85759345 0.93908164 0.93908164 0.97528433 0.93908164 0.97528433\n",
      "  0.97528433 0.990197  ]\n",
      " [0.14240655 0.06091836 0.06091836 0.02471567 0.06091836 0.02471567\n",
      "  0.02471567 0.009803  ]]\n",
      "epoch 800 loss 1.6560540433144886 y [[0.85759345 0.93908164 0.93908164 0.97528433 0.93908164 0.97528433\n",
      "  0.97528433 0.990197  ]\n",
      " [0.14240655 0.06091836 0.06091836 0.02471567 0.06091836 0.02471567\n",
      "  0.02471567 0.009803  ]]\n",
      "epoch 900 loss 1.6560540433144886 y [[0.85759345 0.93908164 0.93908164 0.97528433 0.93908164 0.97528433\n",
      "  0.97528433 0.990197  ]\n",
      " [0.14240655 0.06091836 0.06091836 0.02471567 0.06091836 0.02471567\n",
      "  0.02471567 0.009803  ]]\n"
     ]
    }
   ],
   "source": [
    "x = np.array([[0, 0, 0, 0, 1, 1, 1, 1],\n",
    "              [0, 0, 1, 1, 0, 0, 1, 1],\n",
    "              [0, 1, 0, 1, 0, 1, 0, 1]])\n",
    "t = np.array([0, 1, 1, 0, 1, 0, 0, 1])\n",
    "\n",
    "input_dim = 3\n",
    "output_dim = 1\n",
    "\n",
    "w = 2.0 * np.random.rand(hidden_dim, input_dim) - 1.0\n",
    "b = 2.0 * np.random.rand(hidden_dim, 1) - 1.0\n",
    "\n",
    "layer1 = Affine(w, b)\n",
    "layer2 = SigmoidAndCrossEntropy()\n",
    "\n",
    "epoch = 1000\n",
    "for i in range(epoch):\n",
    "    p = layer1.forward(x)\n",
    "    loss = layer2.forward(p, t)\n",
    "    \n",
    "    dp = layer2.backward()\n",
    "    dx = layer1.backward(dp)\n",
    "    \n",
    "    layer1.update()\n",
    "    \n",
    "    if i % 100 == 0:\n",
    "        print('epoch', i, 'loss', loss, 'y', layer2.y)"
   ]
  },
  {
   "cell_type": "markdown",
   "metadata": {},
   "source": [
    "## Exercise4.2"
   ]
  },
  {
   "cell_type": "markdown",
   "metadata": {},
   "source": [
    "### MNISTデータダウンロード"
   ]
  },
  {
   "cell_type": "code",
   "execution_count": 107,
   "metadata": {},
   "outputs": [],
   "source": [
    "data_dir = os.path.join(os.path.abspath('..'), 'data')\n",
    "if not os.path.exists(data_dir):\n",
    "    os.makedirs(data_dir)\n",
    "\n",
    "X, Y = fetch_openml('mnist_784', data_home=data_dir, return_X_y=True)"
   ]
  },
  {
   "cell_type": "markdown",
   "metadata": {},
   "source": [
    "### 学習設定・データローダー実装"
   ]
  },
  {
   "cell_type": "code",
   "execution_count": 3,
   "metadata": {},
   "outputs": [],
   "source": [
    "class Dataset:\n",
    "    def __init__(self, data_dir=None, data=None, transform=None, train=True):\n",
    "        self.data_dir = data_dir\n",
    "        self.transform = transform\n",
    "        self.train = train\n",
    "    \n",
    "    def __getitem__(self, idx):\n",
    "        raise NotImplementedError\n",
    "\n",
    "\n",
    "class MNISTDataset(Dataset):\n",
    "    \n",
    "    urls = [\n",
    "        'http://yann.lecun.com/exdb/mnist/train-images-idx3-ubyte.gz',\n",
    "        'http://yann.lecun.com/exdb/mnist/train-labels-idx1-ubyte.gz',\n",
    "        'http://yann.lecun.com/exdb/mnist/t10k-images-idx3-ubyte.gz',\n",
    "        'http://yann.lecun.com/exdb/mnist/t10k-labels-idx1-ubyte.gz',\n",
    "    ]\n",
    "    \n",
    "    def __init__(self, data_dir, transform=None, train=True):\n",
    "        super(MNISTDataset, self).__init__(data_dir,\n",
    "                                           transform=transform,\n",
    "                                           train=train)\n",
    "        \n",
    "        if not self._exist_data():\n",
    "            print('Start downloading MNIST data from http://yann.lecun.com/exdb/mnist/')\n",
    "            self.download()\n",
    "            print('Complete!')\n",
    "        \n",
    "        if self.train:\n",
    "            self.data = (\n",
    "                read_mnist_data(os.path.join(self.data_dir, 'train-images-idx3-ubyte.gz')),\n",
    "                read_mnist_data(os.path.join(self.data_dir, 'train-labels-idx1-ubyte.gz')),\n",
    "            )\n",
    "        else:\n",
    "            self.data = (\n",
    "                read_mnist_data(os.path.join(self.data_dir, 't10k-images-idx3-ubyte.gz')),\n",
    "                read_mnist_data(os.path.join(self.data_dir, 't10k-labels-idx1-ubyte.gz')),\n",
    "            )\n",
    "            \n",
    "    def __getitem__(self, idx):\n",
    "        images = self.data[0][idx]\n",
    "        labels = self.data[1][idx]\n",
    "        \n",
    "        if self.transform:\n",
    "            images, labels = self.transform((images, labels))\n",
    "        \n",
    "        return images, labels\n",
    "    \n",
    "    def __len__(self):\n",
    "        return self.data[0].shape[0]\n",
    "    \n",
    "    def download(self):\n",
    "        import urllib.request\n",
    "        \n",
    "        os.makedirs(self.data_dir, exist_ok=True)\n",
    "        \n",
    "        for url in self.urls:\n",
    "            filename = url.rpartition('/')[2]\n",
    "            urllib.request.urlretrieve(url, os.path.join(self.data_dir, filename))\n",
    "        \n",
    "        return\n",
    "    \n",
    "    def _exist_data(self):\n",
    "        for url in self.urls:\n",
    "            filename = url.rpartition('/')[2]\n",
    "            if not os.path.isfile(os.path.join(self.data_dir, filename)):\n",
    "                return False\n",
    "        \n",
    "        return True\n",
    "\n",
    "\n",
    "class DataLoader:\n",
    "    def __init__(self, dataset, batch_size=100):\n",
    "        self.dataset = dataset\n",
    "        self._batch_size = batch_size\n",
    "        self._i = 0\n",
    "        \n",
    "    def __iter__(self):\n",
    "        return self\n",
    "    \n",
    "    def __next__(self):\n",
    "        if (self._i * self._batch_size) >= len(self.dataset):\n",
    "            self._i = 0\n",
    "            raise StopIteration\n",
    "        elif ((self._i + 1) * self._batch_size) >= len(self.dataset):\n",
    "            x, y = self.dataset[self._i * self._batch_size:]\n",
    "        else:\n",
    "            x, y = self.dataset[self._i * self._batch_size:(self._i + 1) * self._batch_size]\n",
    "        \n",
    "        self._i += 1\n",
    "        return x, y\n",
    "\n",
    "\n",
    "def read_mnist_data(filepath):\n",
    "    import gzip, codecs\n",
    "    with gzip.open(filepath, 'rb') as f:\n",
    "        data = f.read()\n",
    "    \n",
    "    magic = int(codecs.encode(data[0:4], 'hex'), 16)\n",
    "    nd = magic % 256\n",
    "    ty = magic // 256\n",
    "    data_num = int(codecs.encode(data[4:8], 'hex'), 16)\n",
    "    \n",
    "    return np.frombuffer(data, dtype=np.uint8, offset=(4 * (nd + 1))).reshape(data_num, -1)\n",
    "\n",
    "\n",
    "class MNISTTransform:\n",
    "    def __init__(self):\n",
    "        pass\n",
    "    \n",
    "    def __call__(self, data):\n",
    "        x = data[0] / 255\n",
    "        y = np.identity(10)[data[1].flatten()]\n",
    "        \n",
    "        return (x, y)\n"
   ]
  },
  {
   "cell_type": "code",
   "execution_count": 4,
   "metadata": {
    "scrolled": true
   },
   "outputs": [
    {
     "name": "stdout",
     "output_type": "stream",
     "text": [
      "Start downloading MNIST data from http://yann.lecun.com/exdb/mnist/\n",
      "Complete!\n"
     ]
    }
   ],
   "source": [
    "epochs = 5\n",
    "batch_size = 100\n",
    "\n",
    "input_dim = 784\n",
    "hidden_dim = 10\n",
    "output_dim = 10\n",
    "\n",
    "mnist_train = MNISTDataset('../data/mnist', transform=MNISTTransform(), train=True)\n",
    "dataloader_train = DataLoader(mnist_train, batch_size=batch_size)"
   ]
  },
  {
   "cell_type": "markdown",
   "metadata": {},
   "source": [
    "### モデル学習"
   ]
  },
  {
   "cell_type": "code",
   "execution_count": 5,
   "metadata": {},
   "outputs": [
    {
     "name": "stdout",
     "output_type": "stream",
     "text": [
      "epoch:0 loss:0.3379676518566211\n",
      "epoch:1 loss:0.23594588128504435\n",
      "epoch:2 loss:0.1722073375253008\n",
      "epoch:3 loss:0.13766380775297515\n",
      "epoch:4 loss:0.1176365801136934\n",
      "[[5523    2   83   18   19  120   73   29   53    3]\n",
      " [   4 6489   45   37   12   27   12   18   83   15]\n",
      " [ 107   85 4932  140  144   24  196  116  183   31]\n",
      " [ 101   79  157 5163   15  307   33   71  139   66]\n",
      " [   6   45   69    7 5250   11  121   17   25  291]\n",
      " [ 208   61   54  305   75 4121  151   49  319   78]\n",
      " [  84   40   86    6   49  151 5418    8   72    4]\n",
      " [  29   90   74   80  123   21   10 5516   28  294]\n",
      " [  21  166  124  243   83  376   59   34 4620  125]\n",
      " [  28   39   36   69  281   53    8  214   93 5128]]\n",
      "accuary=0.8693333333333333\n"
     ]
    }
   ],
   "source": [
    "w = 2.0 * np.random.rand(hidden_dim, input_dim) - 1.0\n",
    "b = 2.0 * np.random.rand(hidden_dim, 1) - 1.0\n",
    "u = 2.0 * np.random.rand(output_dim, hidden_dim) -1.0\n",
    "c = 2.0 * np.random.rand(output_dim, 1) - 1.0\n",
    "\n",
    "layer1 = Affine(w, b)\n",
    "layer2 = Sigmoid()\n",
    "layer3 = Affine(u, c)\n",
    "layer4 = Sigmoid()\n",
    "layer5 = MSE()\n",
    "\n",
    "loss = []\n",
    "\n",
    "for epoch in range(epochs):\n",
    "    predicts = []\n",
    "    for x, y in dataloader_train:\n",
    "        p = layer1.forward(x.T)\n",
    "        t = layer2.forward(p)\n",
    "        q = layer3.forward(t)\n",
    "        z = layer4.forward(q)\n",
    "        predicts.append(list(z.T))\n",
    "        loss.append(layer5.forward(z, y.T))\n",
    "        \n",
    "        dz = layer5.backward()\n",
    "        dq = layer4.backward(dz)\n",
    "        dt = layer3.backward(dq)\n",
    "        dp = layer2.backward(dt)\n",
    "        dx = layer1.backward(dp)\n",
    "        \n",
    "        layer1.update(lr=0.01)\n",
    "        layer3.update(lr=0.01)\n",
    "    print('epoch:{epoch} loss:{loss}'.format(epoch=epoch, loss=loss[-1]))\n",
    "\n",
    "images, labels = mnist_train[0:]\n",
    "predicts = np.identity(10)[np.argmax(np.array(predicts).reshape(-1, 10), axis=1)]\n",
    "results = np.dot(labels.T, predicts).astype(np.int32)\n",
    "\n",
    "print(results)\n",
    "print('accuary={}'.format(np.diag(results).sum() / results.sum()))"
   ]
  },
  {
   "cell_type": "code",
   "execution_count": 6,
   "metadata": {
    "scrolled": true
   },
   "outputs": [
    {
     "data": {
      "image/png": "[encoded data removed]",
      "text/plain": [
       "<Figure size 432x288 with 1 Axes>"
      ]
     },
     "metadata": {
      "needs_background": "light"
     },
     "output_type": "display_data"
    }
   ],
   "source": [
    "plt.plot(np.arange(3000), np.array(loss))\n",
    "plt.title('Training loss of FFN with MNIST')\n",
    "plt.xlabel('batch')\n",
    "plt.ylabel('loss')\n",
    "plt.show()"
   ]
  },
  {
   "cell_type": "markdown",
   "metadata": {},
   "source": [
    "### モデル推論"
   ]
  },
  {
   "cell_type": "code",
   "execution_count": 7,
   "metadata": {},
   "outputs": [],
   "source": [
    "mnist_test = MNISTDataset('../data/mnist', transform=MNISTTransform(), train=False)\n",
    "dataloader_test = DataLoader(mnist_test, batch_size=batch_size)"
   ]
  },
  {
   "cell_type": "code",
   "execution_count": 8,
   "metadata": {
    "scrolled": true
   },
   "outputs": [
    {
     "name": "stdout",
     "output_type": "stream",
     "text": [
      "[[ 940    0    2    3    1   13    9    5    6    1]\n",
      " [   0 1102    5    4    1    2    5    1   14    1]\n",
      " [  17   12  859   20   22    2   27   24   38   11]\n",
      " [  13   14   32  848    4   49    2   11   27   10]\n",
      " [   2    3    4    1  885    1   29    0    2   55]\n",
      " [  26    8    5   58   12  681   18   16   54   14]\n",
      " [  17    7    6    2    9   29  874    5    6    3]\n",
      " [  10   21   26   11   15    1    1  888    0   55]\n",
      " [   5   19   14   30   17   58   10   11  783   27]\n",
      " [   2    6    3    9   38   13    4   17   10  907]]\n",
      "accuary=0.8767\n"
     ]
    }
   ],
   "source": [
    "predicts = []\n",
    "\n",
    "for x, y in dataloader_test:\n",
    "    p = layer1.forward(x.T)\n",
    "    y = layer2.forward(p)\n",
    "    q = layer3.forward(y)\n",
    "    z = layer4.forward(q)\n",
    "    predicts.append(list(z.T))\n",
    "    \n",
    "images, labels = mnist_test[0:]\n",
    "predicts = np.identity(10)[np.argmax(np.array(predicts).reshape(-1, 10), axis=1)]\n",
    "results = np.dot(labels.T, predicts).astype(np.int32)\n",
    "\n",
    "print(results)\n",
    "print('accuary={}'.format(np.diag(results).sum() / results.sum()))"
   ]
  },
  {
   "cell_type": "markdown",
   "metadata": {},
   "source": [
    "## Exercise4.3"
   ]
  },
  {
   "cell_type": "markdown",
   "metadata": {},
   "source": [
    "### 学習設定"
   ]
  },
  {
   "cell_type": "code",
   "execution_count": 11,
   "metadata": {},
   "outputs": [],
   "source": [
    "epochs = 20  # 5 -> 20へ変更\n",
    "batch_size = 100\n",
    "\n",
    "input_dim = 784\n",
    "hidden_dim = 50 # 10 -> 50へ変更\n",
    "output_dim = 10"
   ]
  },
  {
   "cell_type": "markdown",
   "metadata": {},
   "source": [
    "### MNISTデータロード"
   ]
  },
  {
   "cell_type": "code",
   "execution_count": 12,
   "metadata": {},
   "outputs": [],
   "source": [
    "mnist_train = MNISTDataset('../data/mnist', transform=MNISTTransform(), train=True)\n",
    "mnist_test = MNISTDataset('../data/mnist', transform=MNISTTransform(), train=False)\n",
    "dataloader_train = DataLoader(mnist_train, batch_size=batch_size)\n",
    "dataloader_test = DataLoader(mnist_test, batch_size=batch_size)"
   ]
  },
  {
   "cell_type": "markdown",
   "metadata": {},
   "source": [
    "### モデル訓練"
   ]
  },
  {
   "cell_type": "code",
   "execution_count": 13,
   "metadata": {
    "scrolled": true
   },
   "outputs": [
    {
     "name": "stdout",
     "output_type": "stream",
     "text": [
      "epoch:0 loss:0.1633836073609988\n",
      "epoch:1 loss:0.12140307358812319\n",
      "epoch:2 loss:0.09244156424985465\n",
      "epoch:3 loss:0.07356927472199751\n",
      "epoch:4 loss:0.060659091298406194\n",
      "epoch:5 loss:0.050045470473923735\n",
      "epoch:6 loss:0.04497561677950311\n",
      "epoch:7 loss:0.04207789214809992\n",
      "epoch:8 loss:0.04009174121413638\n",
      "epoch:9 loss:0.03839578541351147\n",
      "epoch:10 loss:0.036900219696846766\n",
      "epoch:11 loss:0.035564771077451034\n",
      "epoch:12 loss:0.0344201861932692\n",
      "epoch:13 loss:0.033316680043129064\n",
      "epoch:14 loss:0.03223639157606846\n",
      "epoch:15 loss:0.031272697857224474\n",
      "epoch:16 loss:0.030552150311405936\n",
      "epoch:17 loss:0.030019245001676405\n",
      "epoch:18 loss:0.02955601826692483\n",
      "epoch:19 loss:0.0291414634769169\n",
      "[[5802    0    9   10    6   11   33    7   34   11]\n",
      " [   0 6607   35   20    8    7    7   12   31   15]\n",
      " [  21   14 5685   38   32   13   25   59   64    7]\n",
      " [  15    7   86 5748    5   88   14   61   78   29]\n",
      " [  14   12   24    3 5615    6   33    9   17  109]\n",
      " [  35   11   26   79   19 5089   68   13   54   27]\n",
      " [  32    8   13    5   22   40 5777    1   18    2]\n",
      " [  11   21   46   11   40    5    5 6055   12   59]\n",
      " [  29   46   43   65   13   54   33   11 5514   43]\n",
      " [  28    7    9   77   96   29    5   68   56 5574]]\n",
      "accuary=0.9577666666666667\n"
     ]
    }
   ],
   "source": [
    "w = np.random.randn(hidden_dim, input_dim)\n",
    "b = np.random.randn(hidden_dim, 1)\n",
    "u = np.random.randn(output_dim, hidden_dim)\n",
    "c = np.random.randn(output_dim, 1)\n",
    "\n",
    "layer1 = Affine(w, b)\n",
    "layer2 = Sigmoid()\n",
    "layer3 = Affine(u, c)\n",
    "layer4 = Sigmoid()\n",
    "layer5 = MSE()\n",
    "\n",
    "loss = []\n",
    "\n",
    "for epoch in range(epochs):\n",
    "    predicts = []\n",
    "    for x, y in dataloader_train:\n",
    "        p = layer1.forward(x.T)\n",
    "        t = layer2.forward(p)\n",
    "        q = layer3.forward(t)\n",
    "        z = layer4.forward(q)\n",
    "        predicts.append(list(z.T))\n",
    "        loss.append(layer5.forward(z, y.T))\n",
    "        \n",
    "        dz = layer5.backward()\n",
    "        dq = layer4.backward(dz)\n",
    "        dt = layer3.backward(dq)\n",
    "        dp = layer2.backward(dt)\n",
    "        dx = layer1.backward(dp)\n",
    "        \n",
    "        layer1.update(lr=0.05)\n",
    "        layer3.update(lr=0.05)\n",
    "    print('epoch:{epoch} loss:{loss}'.format(epoch=epoch, loss=loss[-1]))\n",
    "\n",
    "images, labels = mnist_train[0:]\n",
    "predicts = np.identity(10)[np.argmax(np.array(predicts).reshape(-1, 10), axis=1)]\n",
    "results = np.dot(labels.T, predicts).astype(np.int32)\n",
    "\n",
    "print(results)\n",
    "print('accuary={}'.format(np.diag(results).sum() / results.sum()))"
   ]
  },
  {
   "cell_type": "code",
   "execution_count": 14,
   "metadata": {},
   "outputs": [
    {
     "data": {
      "image/png": "[encoded data removed]",
      "text/plain": [
       "<Figure size 432x288 with 1 Axes>"
      ]
     },
     "metadata": {
      "needs_background": "light"
     },
     "output_type": "display_data"
    }
   ],
   "source": [
    "plt.plot(np.arange(12000), np.array(loss))\n",
    "plt.title('Training loss of FFN with MNIST')\n",
    "plt.xlabel('batch')\n",
    "plt.ylabel('loss')\n",
    "plt.show()"
   ]
  },
  {
   "cell_type": "markdown",
   "metadata": {},
   "source": [
    "### モデル推論"
   ]
  },
  {
   "cell_type": "code",
   "execution_count": 15,
   "metadata": {},
   "outputs": [
    {
     "name": "stdout",
     "output_type": "stream",
     "text": [
      "[[ 958    0    1    2    1    6    7    1    4    0]\n",
      " [   0 1114    3    3    1    2    4    2    6    0]\n",
      " [  13    2  969   10    6    1    7   11   12    1]\n",
      " [   5    2   14  931    1   21    2    9   21    4]\n",
      " [   4    1    4    1  920    1   10    3    2   36]\n",
      " [   5    1    6   13    6  830   17    4    5    5]\n",
      " [   9    3    2    1    6   17  917    0    2    1]\n",
      " [   1    6   17    5    5    1    0  973    2   18]\n",
      " [   3    5   11   16    5   10    5    7  907    5]\n",
      " [   5    4    2    7   17    7    1    7    9  950]]\n",
      "accuary=0.9469\n"
     ]
    }
   ],
   "source": [
    "predicts = []\n",
    "\n",
    "for x, y in dataloader_test:\n",
    "    p = layer1.forward(x.T)\n",
    "    y = layer2.forward(p)\n",
    "    q = layer3.forward(y)\n",
    "    z = layer4.forward(q)\n",
    "    predicts.append(list(z.T))\n",
    "    \n",
    "images, labels = mnist_test[0:]\n",
    "predicts = np.identity(10)[np.argmax(np.array(predicts).reshape(-1, 10), axis=1)]\n",
    "results = np.dot(labels.T, predicts).astype(np.int32)\n",
    "\n",
    "print(results)\n",
    "print('accuary={}'.format(np.diag(results).sum() / results.sum()))"
   ]
  },
  {
   "cell_type": "code",
   "execution_count": null,
   "metadata": {},
   "outputs": [],
   "source": []
  }
 ],
 "metadata": {
  "kernelspec": {
   "display_name": "Python 3",
   "language": "python",
   "name": "python3"
  },
  "language_info": {
   "codemirror_mode": {
    "name": "ipython",
    "version": 3
   },
   "file_extension": ".py",
   "mimetype": "text/x-python",
   "name": "python",
   "nbconvert_exporter": "python",
   "pygments_lexer": "ipython3",
   "version": "3.8.3"
  }
 },
 "nbformat": 4,
 "nbformat_minor": 4
}
