{
 "cells": [
  {
   "cell_type": "code",
   "execution_count": 1,
   "metadata": {},
   "outputs": [],
   "source": [
    "import numpy as np\n",
    "np.random.seed(seed=777)"
   ]
  },
  {
   "cell_type": "markdown",
   "metadata": {},
   "source": [
    "## Exercise3.1"
   ]
  },
  {
   "cell_type": "code",
   "execution_count": 2,
   "metadata": {},
   "outputs": [],
   "source": [
    "class Affine:\n",
    "    def __init__(self, w, b):\n",
    "        self.w = w\n",
    "        self.b = b\n",
    "        self.dw = None\n",
    "        self.db = None\n",
    "        self.input = None\n",
    "    \n",
    "    def forward(self, x):\n",
    "        self.input = x\n",
    "        y = np.dot(self.w, x) + self.b\n",
    "        return y\n",
    "    \n",
    "    def backward(self, dx):\n",
    "        self.dw = np.dot(dx ,self.input.T)\n",
    "        self.db = np.sum(dx, axis=1, keepdims=True)\n",
    "        return np.dot(self.w.T, dx)\n",
    "    \n",
    "    def update(self, lr=1.0):\n",
    "        self.w -= self.dw * lr\n",
    "        self.b -= self.db * lr\n",
    "    \n",
    "class Sigmoid:\n",
    "    def __init__(self):\n",
    "        self.output = None\n",
    "        \n",
    "    def forward(self, x):\n",
    "        y = 1 / (1 + np.exp(-x))\n",
    "        self.output = y\n",
    "        return y\n",
    "    \n",
    "    def backward(self, dx):\n",
    "        return dx * self.output * (1.0 - self.output)"
   ]
  },
  {
   "cell_type": "code",
   "execution_count": 3,
   "metadata": {},
   "outputs": [
    {
     "name": "stdout",
     "output_type": "stream",
     "text": [
      "[[0.98111578 0.98685385 0.98859632 0.99093144]]\n"
     ]
    }
   ],
   "source": [
    "x = np.array([[ 0, 0, 1, 1],\n",
    "              [ 0, 1, 0, 1]])\n",
    "w = np.array([[ 1.1, 0.7],\n",
    "              [0.3, 0.5]])\n",
    "b = np.array([[0.1],\n",
    "              [ 3]])\n",
    "u = np.array([[ 2, 2.1]])\n",
    "c = np.array([0.9])\n",
    "\n",
    "layer1 = Affine(w, b)\n",
    "layer2 = Sigmoid()\n",
    "layer3 = Affine(u, c)\n",
    "layer4 = Sigmoid()\n",
    "\n",
    "p = layer1.forward(x)\n",
    "y = layer2.forward(p)\n",
    "q = layer3.forward(y)\n",
    "z = layer4.forward(q)\n",
    "\n",
    "print(z)"
   ]
  },
  {
   "cell_type": "code",
   "execution_count": 4,
   "metadata": {},
   "outputs": [
    {
     "name": "stdout",
     "output_type": "stream",
     "text": [
      "[[0.92383547 0.93812899 0.93840737 0.9475542 ]]\n"
     ]
    }
   ],
   "source": [
    "x = np.array([[ 0, 0, 1, 1],\n",
    "              [ 0, 1, 0, 1]])\n",
    "w = np.array([[ 1, 0.5],\n",
    "              [0.11,1]])\n",
    "b = np.array([[0.3],\n",
    "              [ 2]])\n",
    "u = np.array([[ 1, 1.5]])\n",
    "c = np.array([0.6])\n",
    "\n",
    "\n",
    "layer1 = Affine(w, b)\n",
    "layer2 = Sigmoid()\n",
    "layer3 = Affine(u, c)\n",
    "layer4 = Sigmoid()\n",
    "\n",
    "p = layer1.forward(x)\n",
    "y = layer2.forward(p)\n",
    "q = layer3.forward(y)\n",
    "z = layer4.forward(q)\n",
    "\n",
    "print(z)"
   ]
  },
  {
   "cell_type": "markdown",
   "metadata": {},
   "source": [
    "## Exercise3.2"
   ]
  },
  {
   "cell_type": "code",
   "execution_count": 5,
   "metadata": {},
   "outputs": [],
   "source": [
    "class MSE:\n",
    "    def __init__(self):\n",
    "        self.output = None\n",
    "        self.t = None\n",
    "    \n",
    "    def forward(self, z, t):\n",
    "        data_num = z.shape[-1]\n",
    "        loss = np.sum((z - t) ** 2) / (2 * data_num)\n",
    "        self.z = z\n",
    "        self.t = t\n",
    "        return loss\n",
    "    \n",
    "    def backward(self):\n",
    "        return self.z - self.t"
   ]
  },
  {
   "cell_type": "code",
   "execution_count": 6,
   "metadata": {},
   "outputs": [
    {
     "name": "stdout",
     "output_type": "stream",
     "text": [
      "0.2198690776011607\n"
     ]
    }
   ],
   "source": [
    "x = np.array([[ 0, 0, 1, 1],\n",
    "              [ 0, 1, 0, 1]])\n",
    "t = np.array([0, 1, 1, 0])\n",
    "w = np.array([[ 1, 0.5],\n",
    "              [0.11, 1]])\n",
    "b = np.array([[0.3],\n",
    "              [ 2]])\n",
    "u = np.array([[ 1, 1.5]])\n",
    "c = np.array([0.6])\n",
    "\n",
    "\n",
    "layer1 = Affine(w, b)\n",
    "layer2 = Sigmoid()\n",
    "layer3 = Affine(u, c)\n",
    "layer4 = Sigmoid()\n",
    "layer5 = MSE()\n",
    "\n",
    "p = layer1.forward(x)\n",
    "y = layer2.forward(p)\n",
    "q = layer3.forward(y)\n",
    "z = layer4.forward(q)\n",
    "loss = layer5.forward(z, t)\n",
    "\n",
    "print(loss)"
   ]
  },
  {
   "cell_type": "markdown",
   "metadata": {},
   "source": [
    "## Exercise3.3"
   ]
  },
  {
   "cell_type": "code",
   "execution_count": 7,
   "metadata": {
    "scrolled": true
   },
   "outputs": [
    {
     "name": "stdout",
     "output_type": "stream",
     "text": [
      "0.1254586464038719\n"
     ]
    }
   ],
   "source": [
    "x = np.array([[0, 0, 1, 1],\n",
    "              [0, 1, 0, 1]])\n",
    "t = np.array([0, 1, 1, 0])\n",
    "\n",
    "input_dim = 2\n",
    "hidden_dim = 2\n",
    "output_dim = 1\n",
    "\n",
    "w = 2.0 * np.random.rand(hidden_dim, input_dim) - 1.0\n",
    "b = 2.0 * np.random.rand(hidden_dim, 1) - 1.0\n",
    "u = 2.0 * np.random.rand(output_dim, hidden_dim) -1.0\n",
    "c = 2.0 * np.random.rand(output_dim, 1) - 1.0\n",
    "\n",
    "layer1 = Affine(w, b)\n",
    "layer2 = Sigmoid()\n",
    "layer3 = Affine(u, c)\n",
    "layer4 = Sigmoid()\n",
    "layer5 = MSE()\n",
    "\n",
    "p = layer1.forward(x)\n",
    "y = layer2.forward(p)\n",
    "q = layer3.forward(y)\n",
    "z = layer4.forward(q)\n",
    "loss = layer5.forward(z, t)\n",
    "\n",
    "print(loss)"
   ]
  },
  {
   "cell_type": "markdown",
   "metadata": {},
   "source": [
    "## Exercise3.4"
   ]
  },
  {
   "cell_type": "code",
   "execution_count": 8,
   "metadata": {
    "scrolled": true
   },
   "outputs": [
    {
     "name": "stdout",
     "output_type": "stream",
     "text": [
      "epoch 0 loss 0.11059875819525353 y [[0.30140249 0.16058501 0.36526844 0.20329552]]\n",
      "epoch 100 loss 0.01603109890229218 y [[0.01683037 0.19142871 0.19181786 0.76649093]]\n",
      "epoch 200 loss 0.007857524503265288 y [[0.00470154 0.13497637 0.13498714 0.83752556]]\n",
      "epoch 300 loss 0.005033642102344097 y [[0.00219162 0.10824434 0.10824542 0.87026787]]\n",
      "epoch 400 loss 0.0036534755311751757 y [[0.0012816  0.09230959 0.09230979 0.88961883]]\n",
      "epoch 500 loss 0.00284790866765143 y [[8.49775545e-04 8.15500325e-02 8.15500863e-02 9.02625861e-01]]\n",
      "epoch 600 loss 0.002324238778257206 y [[6.09874652e-04 7.37032833e-02 7.37033016e-02 9.12084201e-01]]\n",
      "epoch 700 loss 0.0019583259795641645 y [[4.62085108e-04 6.76747158e-02 6.76747232e-02 9.19336136e-01]]\n",
      "epoch 800 loss 0.0016890744636436322 y [[3.64155515e-04 6.28659065e-02 6.28659098e-02 9.25111962e-01]]\n",
      "epoch 900 loss 0.0014831060945209795 y [[2.95656574e-04 5.89200069e-02 5.89200085e-02 9.29845693e-01]]\n"
     ]
    }
   ],
   "source": [
    "x = np.array([[0, 0, 1, 1],\n",
    "              [0, 1, 0, 1]])\n",
    "t = np.array([0, 0, 0, 1])\n",
    "\n",
    "input_dim = 2\n",
    "hidden_dim = 2\n",
    "output_dim = 1\n",
    "\n",
    "w = 2.0 * np.random.rand(1, 2) - 1.0\n",
    "b = 2.0 * np.random.rand(1, 1) - 1.0\n",
    "\n",
    "layer1 = Affine(w, b)\n",
    "layer2 = Sigmoid()\n",
    "layer3 = MSE()\n",
    "\n",
    "epoch = 1000\n",
    "for i in range(epoch):\n",
    "    p = layer1.forward(x)\n",
    "    y = layer2.forward(p)\n",
    "    loss = layer3.forward(y, t)\n",
    "    \n",
    "    dy = layer3.backward()\n",
    "    dp = layer2.backward(dy)\n",
    "    dx = layer1.backward(dp)\n",
    "    \n",
    "    layer1.update()\n",
    "    \n",
    "    if i % 100 == 0:\n",
    "        print('epoch', i, 'loss', loss, 'y', y)"
   ]
  },
  {
   "cell_type": "code",
   "execution_count": 9,
   "metadata": {},
   "outputs": [
    {
     "name": "stdout",
     "output_type": "stream",
     "text": [
      "[[5.47896682 5.4789668 ]]\n",
      "[[-8.31114433]]\n"
     ]
    }
   ],
   "source": [
    "print(layer1.w)\n",
    "print(layer1.b)"
   ]
  },
  {
   "cell_type": "markdown",
   "metadata": {},
   "source": [
    "## Exercise3.5"
   ]
  },
  {
   "cell_type": "code",
   "execution_count": 10,
   "metadata": {},
   "outputs": [
    {
     "name": "stdout",
     "output_type": "stream",
     "text": [
      "epoch 0 loss 0.1511950506231787 z [[0.27683793 0.28085116 0.26195186 0.2665165 ]]\n",
      "epoch 100 loss 0.12469058166392134 z [[0.48881315 0.50095413 0.50338763 0.51275309]]\n",
      "epoch 200 loss 0.12236396793827176 z [[0.4640924  0.51379481 0.50975341 0.53553037]]\n",
      "epoch 300 loss 0.10662726735318692 z [[0.34994823 0.58056418 0.54407039 0.58886005]]\n",
      "epoch 400 loss 0.08441147613040437 z [[0.20192356 0.69312628 0.56384439 0.59170557]]\n",
      "epoch 500 loss 0.051144180910469815 z [[0.18455268 0.72762976 0.66882714 0.43730167]]\n",
      "epoch 600 loss 0.012574234890169114 z [[0.13693242 0.84500565 0.8466402  0.18520507]]\n",
      "epoch 700 loss 0.0055524877653663944 z [[0.10067005 0.89753476 0.89870016 0.11629558]]\n",
      "epoch 800 loss 0.0033750296092984584 z [[0.08175318 0.92041547 0.92128683 0.08824508]]\n",
      "epoch 900 loss 0.0023769992116009333 z [[0.07015272 0.93337913 0.9340749  0.07287064]]\n"
     ]
    }
   ],
   "source": [
    "x = np.array([[0, 0, 1, 1],\n",
    "              [0, 1, 0, 1]])\n",
    "t = np.array([0, 1, 1, 0])\n",
    "\n",
    "input_dim = 2\n",
    "hidden_dim = 2\n",
    "output_dim = 1\n",
    "\n",
    "w = 2.0 * np.random.rand(hidden_dim, input_dim) - 1.0\n",
    "b = 2.0 * np.random.rand(hidden_dim, 1) - 1.0\n",
    "u = 2.0 * np.random.rand(output_dim, hidden_dim) -1.0\n",
    "c = 2.0 * np.random.rand(output_dim, 1) - 1.0\n",
    "\n",
    "layer1 = Affine(w, b)\n",
    "layer2 = Sigmoid()\n",
    "layer3 = Affine(u, c)\n",
    "layer4 = Sigmoid()\n",
    "layer5 = MSE()\n",
    "\n",
    "epoch = 1000\n",
    "for i in range(epoch):\n",
    "    p = layer1.forward(x)\n",
    "    y = layer2.forward(p)\n",
    "    q = layer3.forward(y)\n",
    "    z = layer4.forward(q)\n",
    "    loss = layer5.forward(z, t)\n",
    "    \n",
    "    dz = layer5.backward()\n",
    "    dq = layer4.backward(dz)\n",
    "    dy = layer3.backward(dq)\n",
    "    dp = layer2.backward(dy)\n",
    "    dx = layer1.backward(dp)\n",
    "    \n",
    "    layer1.update()\n",
    "    layer3.update()\n",
    "    \n",
    "    if i % 100 == 0:\n",
    "        print('epoch', i, 'loss', loss, 'z', z)"
   ]
  },
  {
   "cell_type": "markdown",
   "metadata": {},
   "source": [
    "## Exercise3.6"
   ]
  },
  {
   "cell_type": "code",
   "execution_count": 11,
   "metadata": {},
   "outputs": [
    {
     "name": "stdout",
     "output_type": "stream",
     "text": [
      "epoch 0 loss 0.09878065470304687 z [[0.41560448 0.37502515 0.4532894  0.4116474  0.43901709 0.39845916\n",
      "  0.47311903 0.43710806]]\n",
      "epoch 100 loss 0.027184888566827395 z [[0.0235625  0.05928902 0.06759481 0.20402096 0.06728326 0.19543462\n",
      "  0.24339796 0.46827645]]\n",
      "epoch 200 loss 0.005710145438401555 z [[0.00206513 0.01070227 0.00777105 0.11794959 0.00758125 0.11505224\n",
      "  0.11257245 0.77349619]]\n",
      "epoch 300 loss 0.0021440680417222097 z [[6.34670562e-04 4.02296515e-03 2.75534076e-03 7.38441486e-02\n",
      "  2.58430090e-03 7.16458394e-02 6.95558401e-02 8.62704219e-01]]\n",
      "epoch 400 loss 0.001183598411317012 z [[3.32802035e-04 2.31513607e-03 1.55278045e-03 5.51844218e-02\n",
      "  1.43984808e-03 5.35241702e-02 5.17692085e-02 8.98326938e-01]]\n",
      "epoch 500 loss 0.0007834980057750519 z [[2.17649246e-04 1.59817846e-03 1.05924826e-03 4.49919360e-02\n",
      "  9.81419314e-04 4.36874617e-02 4.21390998e-02 9.17400309e-01]]\n",
      "epoch 600 loss 0.0005732685883029496 z [[1.59564847e-04 1.21436123e-03 7.98014419e-04 3.85135160e-02\n",
      "  7.41999723e-04 3.74557863e-02 3.60476186e-02 9.29402888e-01]]\n",
      "epoch 700 loss 0.00044644562125832724 z [[1.25251778e-04 9.78023974e-04 6.38271560e-04 3.39921548e-02\n",
      "  5.96714856e-04 3.31147322e-02 3.18091041e-02 9.37730239e-01]]\n",
      "epoch 800 loss 0.00036268565923638804 z [[1.02835587e-04 8.18772003e-04 5.31155322e-04 3.06331669e-02\n",
      "  4.99714171e-04 2.98931518e-02 2.86666267e-02 9.43893041e-01]]\n",
      "epoch 900 loss 0.00030372998259295555 z [[8.71398071e-05 7.04527943e-04 4.54601373e-04 2.80243225e-02\n",
      "  4.30544826e-04 2.73925155e-02 2.62294279e-02 9.48666889e-01]]\n"
     ]
    }
   ],
   "source": [
    "x = np.array([[0, 0, 0, 0, 1, 1, 1, 1],\n",
    "              [0, 0, 1, 1, 0, 0, 1, 1],\n",
    "              [0, 1, 0, 1, 0, 1, 0, 1]])\n",
    "t = np.array([0, 0, 0, 0, 0, 0, 0, 1])\n",
    "\n",
    "input_dim = 3\n",
    "hidden_dim = 3\n",
    "output_dim = 1\n",
    "\n",
    "w = 2.0 * np.random.rand(hidden_dim, input_dim) - 1.0\n",
    "b = 2.0 * np.random.rand(hidden_dim, 1) - 1.0\n",
    "u = 2.0 * np.random.rand(output_dim, hidden_dim) -1.0\n",
    "c = 2.0 * np.random.rand(output_dim, 1) - 1.0\n",
    "\n",
    "layer1 = Affine(w, b)\n",
    "layer2 = Sigmoid()\n",
    "layer3 = Affine(u, c)\n",
    "layer4 = Sigmoid()\n",
    "layer5 = MSE()\n",
    "\n",
    "epoch = 1000\n",
    "for i in range(epoch):\n",
    "    p = layer1.forward(x)\n",
    "    y = layer2.forward(p)\n",
    "    q = layer3.forward(y)\n",
    "    z = layer4.forward(q)\n",
    "    loss = layer5.forward(z, t)\n",
    "    \n",
    "    dz = layer5.backward()\n",
    "    dq = layer4.backward(dz)\n",
    "    dy = layer3.backward(dq)\n",
    "    dp = layer2.backward(dy)\n",
    "    dx = layer1.backward(dp)\n",
    "    \n",
    "    layer1.update()\n",
    "    layer3.update()\n",
    "    \n",
    "    if i % 100 == 0:\n",
    "        print('epoch', i, 'loss', loss, 'z', z)"
   ]
  },
  {
   "cell_type": "code",
   "execution_count": null,
   "metadata": {},
   "outputs": [],
   "source": []
  }
 ],
 "metadata": {
  "kernelspec": {
   "display_name": "Python 3",
   "language": "python",
   "name": "python3"
  },
  "language_info": {
   "codemirror_mode": {
    "name": "ipython",
    "version": 3
   },
   "file_extension": ".py",
   "mimetype": "text/x-python",
   "name": "python",
   "nbconvert_exporter": "python",
   "pygments_lexer": "ipython3",
   "version": "3.8.3"
  }
 },
 "nbformat": 4,
 "nbformat_minor": 4
}
