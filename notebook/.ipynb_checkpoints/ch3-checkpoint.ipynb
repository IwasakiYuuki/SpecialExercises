{
 "cells": [
  {
   "cell_type": "code",
   "execution_count": 2,
   "metadata": {},
   "outputs": [],
   "source": [
    "import numpy as np\n",
    "np.random.seed(seed=777)"
   ]
  },
  {
   "cell_type": "markdown",
   "metadata": {},
   "source": [
    "## Exercise3.1"
   ]
  },
  {
   "cell_type": "code",
   "execution_count": 132,
   "metadata": {},
   "outputs": [],
   "source": [
    "class Affine:\n",
    "    def __init__(self, w, b):\n",
    "        self.w = w\n",
    "        self.b = b\n",
    "        self.dw = None\n",
    "        self.db = None\n",
    "        self.input = None\n",
    "    \n",
    "    def forward(self, x):\n",
    "        self.input = x\n",
    "        y = np.dot(self.w, x) + self.b\n",
    "        return y\n",
    "    \n",
    "    def backward(self, dx):\n",
    "        self.dw = np.dot(dx ,self.input.T)\n",
    "        self.db = np.sum(dx, axis=1, keepdims=True)\n",
    "        return np.dot(self.w.T, dx)\n",
    "    \n",
    "    def update(self, lr=1.0):\n",
    "        self.w -= self.dw * lr\n",
    "        self.b -= self.db * lr\n",
    "    \n",
    "class Sigmoid:\n",
    "    def __init__(self):\n",
    "        self.output = None\n",
    "        \n",
    "    def forward(self, x):\n",
    "        y = 1 / (1 + np.exp(-x))\n",
    "        self.output = y\n",
    "        return y\n",
    "    \n",
    "    def backward(self, dx):\n",
    "        return dx * self.output * (1.0 - self.output)"
   ]
  },
  {
   "cell_type": "code",
   "execution_count": 4,
   "metadata": {},
   "outputs": [
    {
     "name": "stdout",
     "output_type": "stream",
     "text": [
      "[[0.98111578 0.98685385 0.98859632 0.99093144]]\n"
     ]
    }
   ],
   "source": [
    "x = np.array([[ 0, 0, 1, 1],\n",
    "              [ 0, 1, 0, 1]])\n",
    "w = np.array([[ 1.1, 0.7],\n",
    "              [0.3, 0.5]])\n",
    "b = np.array([[0.1],\n",
    "              [ 3]])\n",
    "u = np.array([[ 2, 2.1]])\n",
    "c = np.array([0.9])\n",
    "\n",
    "\n",
    "layer1 = Affine(w, b)\n",
    "layer2 = Sigmoid()\n",
    "layer3 = Affine(u, c)\n",
    "layer4 = Sigmoid()\n",
    "\n",
    "p = layer1.forward(x)\n",
    "y = layer2.forward(p)\n",
    "q = layer3.forward(y)\n",
    "z = layer4.forward(q)\n",
    "\n",
    "print(z)"
   ]
  },
  {
   "cell_type": "code",
   "execution_count": 5,
   "metadata": {},
   "outputs": [
    {
     "name": "stdout",
     "output_type": "stream",
     "text": [
      "[[0.92383547 0.93812899 0.93840737 0.9475542 ]]\n"
     ]
    }
   ],
   "source": [
    "x = np.array([[ 0, 0, 1, 1],\n",
    "              [ 0, 1, 0, 1]])\n",
    "w = np.array([[ 1, 0.5],\n",
    "              [0.11,1]])\n",
    "b = np.array([[0.3],\n",
    "              [ 2]])\n",
    "u = np.array([[ 1, 1.5]])\n",
    "c = np.array([0.6])\n",
    "\n",
    "\n",
    "layer1 = Affine(w, b)\n",
    "layer2 = Sigmoid()\n",
    "layer3 = Affine(u, c)\n",
    "layer4 = Sigmoid()\n",
    "\n",
    "p = layer1.forward(x)\n",
    "y = layer2.forward(p)\n",
    "q = layer3.forward(y)\n",
    "z = layer4.forward(q)\n",
    "\n",
    "print(z)"
   ]
  },
  {
   "cell_type": "markdown",
   "metadata": {},
   "source": [
    "## Exercise3.2"
   ]
  },
  {
   "cell_type": "code",
   "execution_count": 108,
   "metadata": {},
   "outputs": [],
   "source": [
    "class MSE:\n",
    "    def __init__(self):\n",
    "        self.output = None\n",
    "        self.t = None\n",
    "    \n",
    "    def forward(self, z, t):\n",
    "        data_num = z.shape[-1]\n",
    "        loss = np.sum((z - t) ** 2) / (2 * data_num)\n",
    "        self.z = z\n",
    "        self.t = t\n",
    "        return loss\n",
    "    \n",
    "    def backward(self):\n",
    "        return self.z - self.t"
   ]
  },
  {
   "cell_type": "code",
   "execution_count": 7,
   "metadata": {},
   "outputs": [
    {
     "name": "stdout",
     "output_type": "stream",
     "text": [
      "0.2198690776011607\n"
     ]
    }
   ],
   "source": [
    "x = np.array([[ 0, 0, 1, 1],\n",
    "              [ 0, 1, 0, 1]])\n",
    "t = np.array([0, 1, 1, 0])\n",
    "w = np.array([[ 1, 0.5],\n",
    "              [0.11, 1]])\n",
    "b = np.array([[0.3],\n",
    "              [ 2]])\n",
    "u = np.array([[ 1, 1.5]])\n",
    "c = np.array([0.6])\n",
    "\n",
    "\n",
    "layer1 = Affine(w, b)\n",
    "layer2 = Sigmoid()\n",
    "layer3 = Affine(u, c)\n",
    "layer4 = Sigmoid()\n",
    "layer5 = MSE()\n",
    "\n",
    "p = layer1.forward(x)\n",
    "y = layer2.forward(p)\n",
    "q = layer3.forward(y)\n",
    "z = layer4.forward(q)\n",
    "loss = layer5.forward(z, t)\n",
    "\n",
    "print(loss)"
   ]
  },
  {
   "cell_type": "markdown",
   "metadata": {},
   "source": [
    "## Exercise3.3"
   ]
  },
  {
   "cell_type": "code",
   "execution_count": 65,
   "metadata": {
    "scrolled": true
   },
   "outputs": [
    {
     "name": "stdout",
     "output_type": "stream",
     "text": [
      "0.15823737724358658\n"
     ]
    }
   ],
   "source": [
    "x = np.array([[0, 0, 1, 1],\n",
    "              [0, 1, 0, 1]])\n",
    "t = np.array([0, 1, 1, 0])\n",
    "\n",
    "input_dim = 2\n",
    "hidden_dim = 2\n",
    "output_dim = 1\n",
    "\n",
    "w = 2.0 * np.random.rand(hidden_dim, input_dim) - 1.0\n",
    "b = 2.0 * np.random.rand(hidden_dim, 1) - 1.0\n",
    "u = 2.0 * np.random.rand(output_dim, hidden_dim) -1.0\n",
    "c = 2.0 * np.random.rand(output_dim, 1) - 1.0\n",
    "\n",
    "layer1 = Affine(w, b)\n",
    "layer2 = Sigmoid()\n",
    "layer3 = Affine(u, c)\n",
    "layer4 = Sigmoid()\n",
    "layer5 = MSE()\n",
    "\n",
    "p = layer1.forward(x)\n",
    "y = layer2.forward(p)\n",
    "q = layer3.forward(y)\n",
    "z = layer4.forward(q)\n",
    "loss = layer5.forward(z, t)\n",
    "\n",
    "print(loss)"
   ]
  },
  {
   "cell_type": "markdown",
   "metadata": {},
   "source": [
    "## Exercise3.4"
   ]
  },
  {
   "cell_type": "code",
   "execution_count": 134,
   "metadata": {
    "scrolled": true
   },
   "outputs": [
    {
     "name": "stdout",
     "output_type": "stream",
     "text": [
      "epoch 0 loss 0.12274927579404002 y [[0.42118093 0.36994107 0.26797782 0.22803347]]\n",
      "epoch 100 loss 0.016585570256661034 y [[0.01791774 0.19488418 0.19474379 0.76238997]]\n",
      "epoch 200 loss 0.008009002282706441 y [[0.00486048 0.13626446 0.13626083 0.83594703]]\n",
      "epoch 300 loss 0.005099666614781936 y [[0.00224043 0.10894766 0.1089473  0.86941207]]\n",
      "epoch 400 loss 0.0036895097409325598 y [[0.00130266 0.09276136 0.0927613  0.88907186]]\n",
      "epoch 500 loss 0.0028703283529771884 y [[8.60775155e-04 8.18689834e-02 8.18689663e-02 9.02240971e-01]]\n",
      "epoch 600 loss 0.0023394297756996665 y [[6.16368144e-04 7.39428175e-02 7.39428117e-02 9.11795813e-01]]\n",
      "epoch 700 loss 0.0019692527718526013 y [[4.66255568e-04 6.78625991e-02 6.78625968e-02 9.19110320e-01]]\n",
      "epoch 800 loss 0.0016972884097868988 y [[3.67003943e-04 6.30180961e-02 6.30180951e-02 9.24929288e-01]]\n",
      "epoch 900 loss 0.0014894932708022076 y [[2.97695256e-04 5.90463740e-02 5.90463735e-02 9.29694175e-01]]\n"
     ]
    }
   ],
   "source": [
    "x = np.array([[0, 0, 1, 1],\n",
    "              [0, 1, 0, 1]])\n",
    "t = np.array([0, 0, 0, 1])\n",
    "\n",
    "input_dim = 2\n",
    "hidden_dim = 2\n",
    "output_dim = 1\n",
    "\n",
    "w = 2.0 * np.random.rand(1, 2) - 1.0\n",
    "b = 2.0 * np.random.rand(1, 1) - 1.0\n",
    "\n",
    "layer1 = Affine(w, b)\n",
    "layer2 = Sigmoid()\n",
    "layer3 = MSE()\n",
    "\n",
    "epoch = 1000\n",
    "for i in range(epoch):\n",
    "    p = layer1.forward(x)\n",
    "    y = layer2.forward(p)\n",
    "    loss = layer3.forward(y, t)\n",
    "    \n",
    "    dy = layer3.backward()\n",
    "    dp = layer2.backward(dy)\n",
    "    dx = layer1.backward(dp)\n",
    "    \n",
    "    layer1.update()\n",
    "    \n",
    "    if i % 100 == 0:\n",
    "        print('epoch', i, 'loss', loss, 'y', y)"
   ]
  },
  {
   "cell_type": "code",
   "execution_count": 122,
   "metadata": {},
   "outputs": [
    {
     "name": "stdout",
     "output_type": "stream",
     "text": [
      "[[-0.01216047 -0.01210709]]\n",
      "[[0.0178823]]\n"
     ]
    }
   ],
   "source": [
    "print(layer1.dw)\n",
    "print(layer1.db)"
   ]
  },
  {
   "cell_type": "markdown",
   "metadata": {},
   "source": [
    "## Exercise3.5"
   ]
  },
  {
   "cell_type": "code",
   "execution_count": 133,
   "metadata": {},
   "outputs": [
    {
     "name": "stdout",
     "output_type": "stream",
     "text": [
      "epoch 0 loss 0.1439256472890366 z [[0.68729137 0.67988078 0.70781997 0.70084967]]\n",
      "epoch 100 loss 0.12500178614539453 z [[0.49318656 0.50074094 0.49968683 0.50715721]]\n",
      "epoch 200 loss 0.12497692079132813 z [[0.49379354 0.49920332 0.50148016 0.50662013]]\n",
      "epoch 300 loss 0.12489211893116936 z [[0.49358058 0.49585361 0.50539987 0.5066777 ]]\n",
      "epoch 400 loss 0.12437281087467442 z [[0.49304896 0.48652225 0.51677071 0.50469324]]\n",
      "epoch 500 loss 0.11920089374138372 z [[0.48292057 0.45119859 0.56978457 0.48386628]]\n",
      "epoch 600 loss 0.08183306141600848 z [[0.38008431 0.45053299 0.73022088 0.3681109 ]]\n",
      "epoch 700 loss 0.01761637060788426 z [[0.1895397  0.76735063 0.84616433 0.16496825]]\n",
      "epoch 800 loss 0.006505045206132975 z [[0.11562799 0.86410165 0.89954902 0.10055729]]\n",
      "epoch 900 loss 0.0036990246437935423 z [[0.08712833 0.89897438 0.92246743 0.07604852]]\n"
     ]
    }
   ],
   "source": [
    "x = np.array([[0, 0, 1, 1],\n",
    "              [0, 1, 0, 1]])\n",
    "t = np.array([0, 1, 1, 0])\n",
    "\n",
    "input_dim = 2\n",
    "hidden_dim = 2\n",
    "output_dim = 1\n",
    "\n",
    "w = 2.0 * np.random.rand(hidden_dim, input_dim) - 1.0\n",
    "b = 2.0 * np.random.rand(hidden_dim, 1) - 1.0\n",
    "u = 2.0 * np.random.rand(output_dim, hidden_dim) -1.0\n",
    "c = 2.0 * np.random.rand(output_dim, 1) - 1.0\n",
    "\n",
    "layer1 = Affine(w, b)\n",
    "layer2 = Sigmoid()\n",
    "layer3 = Affine(u, c)\n",
    "layer4 = Sigmoid()\n",
    "layer5 = MSE()\n",
    "\n",
    "epoch = 1000\n",
    "for i in range(epoch):\n",
    "    p = layer1.forward(x)\n",
    "    y = layer2.forward(p)\n",
    "    q = layer3.forward(y)\n",
    "    z = layer4.forward(q)\n",
    "    loss = layer5.forward(z, t)\n",
    "    \n",
    "    dz = layer5.backward()\n",
    "    dq = layer4.backward(dz)\n",
    "    dy = layer3.backward(dq)\n",
    "    dp = layer2.backward(dy)\n",
    "    dx = layer1.backward(dp)\n",
    "    \n",
    "    layer1.update()\n",
    "    layer3.update()\n",
    "    \n",
    "    if i % 100 == 0:\n",
    "        print('epoch', i, 'loss', loss, 'z', z)"
   ]
  },
  {
   "cell_type": "code",
   "execution_count": null,
   "metadata": {},
   "outputs": [],
   "source": []
  }
 ],
 "metadata": {
  "kernelspec": {
   "display_name": "Python 3",
   "language": "python",
   "name": "python3"
  },
  "language_info": {
   "codemirror_mode": {
    "name": "ipython",
    "version": 3
   },
   "file_extension": ".py",
   "mimetype": "text/x-python",
   "name": "python",
   "nbconvert_exporter": "python",
   "pygments_lexer": "ipython3",
   "version": "3.8.3"
  }
 },
 "nbformat": 4,
 "nbformat_minor": 4
}
